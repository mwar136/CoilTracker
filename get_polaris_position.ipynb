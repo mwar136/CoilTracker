{
 "cells": [
  {
   "cell_type": "code",
   "execution_count": 2,
   "metadata": {
    "collapsed": false,
    "scrolled": true
   },
   "outputs": [
    {
     "name": "stderr",
     "output_type": "stream",
     "text": [
      "C:\\Anaconda\\lib\\site-packages\\IPython\\config.py:13: ShimWarning: The `IPython.config` package has been deprecated. You should import from traitlets.config instead.\n",
      "  \"You should import from traitlets.config instead.\", ShimWarning)\n"
     ]
    }
   ],
   "source": [
    "import sys\n",
    "import os\n",
    "import logging\n",
    "import time\n",
    "import numpy as np\n",
    "from argparse import ArgumentParser\n",
    "from IPython.config.loader import PyFileConfigLoader\n",
    "\n",
    "\n",
    "import PyDragonfly\n",
    "from PyDragonfly import CMessage, MT_EXIT, copy_to_msg, copy_from_msg\n",
    "from dragonfly_utils import respond_to_ping\n",
    "\n",
    "import Dragonfly_config as rc\n",
    "import quaternionarray as qa\n",
    "import amcmorl_py_tools.vecgeom as vg\n",
    "import PolarisDragonfly as pd"
   ]
  },
  {
   "cell_type": "code",
   "execution_count": 2,
   "metadata": {
    "collapsed": true
   },
   "outputs": [],
   "source": [
    "vg?"
   ]
  },
  {
   "cell_type": "code",
   "execution_count": 61,
   "metadata": {
    "collapsed": false
   },
   "outputs": [],
   "source": [
    "positions = np.zeros([200,4])\n",
    "orientations = np.zeros([200,5])\n",
    "np.testing.assert_array_equal(positions[:,0], orientations[:,0], err_msg='Samples are not aligned')"
   ]
  },
  {
   "cell_type": "code",
   "execution_count": 2,
   "metadata": {
    "collapsed": false,
    "scrolled": true
   },
   "outputs": [
    {
     "name": "stderr",
     "output_type": "stream",
     "text": [
      "usage: __main__.py [-h] config [mm_ip]\n",
      "__main__.py: error: unrecognized arguments: -f\n"
     ]
    },
    {
     "ename": "SystemExit",
     "evalue": "2",
     "output_type": "error",
     "traceback": [
      "An exception has occurred, use %tb to see the full traceback.\n",
      "\u001b[1;31mSystemExit\u001b[0m\u001b[1;31m:\u001b[0m 2\n"
     ]
    },
    {
     "name": "stderr",
     "output_type": "stream",
     "text": [
      "To exit: use 'exit', 'quit', or Ctrl-D.\n"
     ]
    }
   ],
   "source": [
    "'''\n",
    "\n",
    "'''\n",
    "\n",
    "class HotspotLocator (object):\n",
    "    def __init__(self, config_file, mm_ip):\n",
    "        self.load_config(config_file)\n",
    "        self.load_logging()\n",
    "        self.setup_dragonfly(mm_ip)\n",
    "        self.user_start_calibrate()\n",
    "        self.run()\n",
    "        \n",
    "    def load_config(self, config_file):\n",
    "        cfg = PyFileConfigLoader(config_file)\n",
    "        cfg.load_config()\n",
    "        self.config = cfg.config\n",
    "        \n",
    "        # special casing for SAMPLE_GENERATED\n",
    "        if (self.config.trigger == 'SAMPLE_GENERATED'):\n",
    "            self.config.trigger_msg = rc.MT_SAMPLE_GENERATED\n",
    "            self.config.trigger_mdf = rc.MDF_SAMPLE_GENERATED\n",
    "        else:\n",
    "            self.config.trigger_msg = \\\n",
    "                eval('rc.MT_' + self.config.trigger)\n",
    "            self.config.trigager_mdf = \\\n",
    "                eval('rc.MDF_' + self.config.trigger)\n",
    "        print \"Triggering with\", self.config.trigger\n",
    "        print \"PolarisDragonfly: loading config\"\n",
    "        \n",
    "        self.ntools = len(self.config.tool_list)\n",
    "           \n",
    "    def load_logging(self):\n",
    "        log_file = os.path.normpath(os.path.join(self.config.config_dir, 'coil_calibration.log'))\n",
    "        print \"log file: \" + log_file\n",
    "        logging.basicConfig(filename=log_file, level=logging.DEBUG)\n",
    "        logging.info(' ')\n",
    "        logging.info(' ')\n",
    "        logging.debug(\"**** STARTING UP ****\")\n",
    "        logging.info(\"  %s  \" % time.asctime())\n",
    "        logging.info(\"*********************\")\n",
    "            \n",
    "    def setup_dragonfly(self, mm_ip):\n",
    "        self.mod = PyDragonfly.Dragonfly_Module(0, 0)\n",
    "        self.mod.ConnectToMMM(mm_ip)\n",
    "        self.mod.Subscribe(MT_EXIT)\n",
    "        self.mod.Subscribe(rc.MT_PING)\n",
    "        self.mod.Subscribe(self.config.trigger_msg)\n",
    "        self.mod.Subscribe(rc.MT_POLARIS_POSITION)\n",
    "        \n",
    "        self.mod.SendModuleReady()\n",
    "        print \"PolarisDragonfly: connected to dragonfly\"\n",
    "           \n",
    "    def user_start_calibrate(self):\n",
    "        while True:\n",
    "            x = raw_input(\"Press enter to calibrate...\")\n",
    "            if not x:\n",
    "                break\n",
    "            print '.......'\n",
    "        sys.stdout.write('starting in:')\n",
    "        sys.stdout.write('3\\n')\n",
    "        sys.stdout.flush()\n",
    "        time.sleep(1)\n",
    "        sys.stdout.write('2\\n')\n",
    "        sys.stdout.flush()\n",
    "        time.sleep(1)\n",
    "        sys.stdout.write('1\\n')\n",
    "        sys.stdout.flush()\n",
    "        time.sleep(1)\n",
    "        sys.stdout.write('Calibrating...')\n",
    "        self.create_storage()\n",
    "    \n",
    "    def create_storage (self):\n",
    "        self.store_pos = np.empty([time_to_collect * fsamp_per_chan * self.ntools, 4])\n",
    "        self.store_ori = np.empty([time_to_collect * fsamp_per_chan * self.ntools, 5])\n",
    "        self.store_i = 0\n",
    "        self.calibrated = False\n",
    "\n",
    "    def run(self):\n",
    "        while True:\n",
    "            msg = CMessage()\n",
    "            rcv = self.mod.ReadMessage(msg, 0.001)\n",
    "            if rcv == 1:\n",
    "                msg_type = msg.GetHeader().msg_type\n",
    "                dest_mod_id = msg.GetHeader().dest_mod_id\n",
    "                if  msg_type == MT_EXIT:\n",
    "                    if (dest_mod_id == 0) or (dest_mod_id == self.mod.GetModuleID()):\n",
    "                        print 'Received MT_EXIT, disconnecting...'\n",
    "                        self.mod.SendSignal(rc.MT_EXIT_ACK)\n",
    "                        self.mod.DisconnectFromMMM()\n",
    "                        break;\n",
    "                elif msg_type == rc.MT_PING:\n",
    "                    respond_to_ping(self.mod, msg, 'PolarisDragonfly')\n",
    "                else:\n",
    "                    self.process_msg(msg)\n",
    "    \n",
    "    def process_message(self, in_msg):\n",
    "\n",
    "        msg_type = in_msg.GetHeader().msg_type\n",
    "        if msg_type == rc.MT_POLARIS_POSITION:\n",
    "            # handling input message\n",
    "            in_mdf = rc.MDF_POLARIS_POSITION()\n",
    "            copy_from_msg(in_mdf, in_msg)\n",
    "            positions = in_mdf.xyz[:] \n",
    "            orientations =in_mdf.ori[:]            \n",
    "            \n",
    "            #need to shuffle quarternion somewhere to x,y,z, w\n",
    "            # possibly storing bias values\n",
    "            if self.calibrated:\n",
    "                 # calculating output\n",
    "                self.Qk = orientations[self.config.tools.index('CT315')::2, 1:] #need to find a way to discriminate the tools files in the messages???\n",
    "                Qr = qa.mult(sample, qa.inv(self.Qk))\n",
    "                Tk = positions[self.config.tools.index('CT315')::2, 1:] \n",
    "                hotspot_position[n, :] = qa.rotate(Qr, self.Xi) + Tk\n",
    "\n",
    "                #creating output message\n",
    "                out_mdf = rc.MDF_HOTSPOT_POSITION()\n",
    "                out_mdf.xyz[:] = hotspot_position\n",
    "                out_mdf.ori[:] = 0 # Qk - coil active orientation\n",
    "                out_mdf.sample_header = in_mdf.sample_header\n",
    "                msg = CMessage(rc.MT_HOTSPOT_POSITION)\n",
    "                copy_to_msg(out_mdf, msg)\n",
    "                self.mod.SendMessage(msg)\n",
    "                sys.stdout.write(\"o\")\n",
    "            else:\n",
    "                self.store_pos[self.store_i, 1:] = positions\n",
    "                self.store_ori[self.store_i, 1:] = orientations # Why is it this way?\n",
    "                self.store_i += 1\n",
    "                if (self.store_i >= self.store_pos.shape[0]) & (self.store_i >= self.store_ori.shape[0]):\n",
    "                    self.calibrating = False\n",
    "                    self.make_calibration_vector()\n",
    "            \n",
    "    def make_calibration_vector(self):\n",
    "        plate_ori = self.store_ori[self.config.tools.index('CB609')::2].mean(axis=0)\n",
    "        Ni = self.store_pos[self.config.tools.index('CB609')::2].mean(axis=0)\n",
    "        self.Qi = self.store_ori[self.config.tools.index('CT315')::2].mean(axis=0)\n",
    "        Ti = self.store_pos[self.config.tools.index('CT315')::2].mean(axis=0)\n",
    "        msg_str_pos = \"%.5e, \" * 3\n",
    "        msg_str_ori = \"%.5e, \" * 4\n",
    "        sys.stdout.write('Plate orientation:    ')\n",
    "        sys.stdout.write(msg_str_ori % (plate_ori[0], plate_ori[1], plate_ori[2],\\\n",
    "                                    plate_ori[3]) + \"\\n\")\n",
    "        sys.stdout.write('Plate position:       ')\n",
    "        sys.stdout.write(msg_str_pos % (Ni[0], Ni[1], Ni[2]) + \"\\n\")\n",
    "        sys.stdout.write('Coil orientation:     ')\n",
    "        sys.stdout.write(msg_str_ori % (self.Qi[0], self.Qi[1], self.Qi[2], self.Qi[3]) + \"\\n\")\n",
    "        sys.stdout.write('Coil position:        ')\n",
    "        sys.stdout.write(msg_str_pos % (Ti[0], Ti[1], Ti[2]) + \"\\n\")\n",
    "        self.Xi = Ni - Ti\n",
    "        sys.stdout.write('Vector:        ')\n",
    "        sys.stdout.write(msg_str_pos % (self.Xi[0], self.Xi[1], self.Xi[2]) + \"\\n\")\n",
    "        sys.stdout.write(\"********** Calibration complete! ***********\\n\")\n",
    "        sys.stdout.flush()\n",
    "        self.calibrated = True\n",
    "\n",
    "if __name__ == \"__main__\":\n",
    "    parser = ArgumentParser(description = 'Interface with Polaris hardware' \\\n",
    "        ' and emit POLARIS_POSITION messages')\n",
    "    parser.add_argument(type=str, dest='config')\n",
    "    parser.add_argument(type=str, dest='mm_ip', nargs='?', default='')\n",
    "    args = parser.parse_args()\n",
    "    print(\"Using config file=%s, MM IP=%s\" % (args.config, args.mm_ip))\n",
    "    pdf = PolarisDragonfly(args.config, args.mm_ip)\n",
    "    print \"Finishing up\""
   ]
  },
  {
   "cell_type": "markdown",
   "metadata": {},
   "source": [
    "Changelog:\n",
    "\n",
    "26/11/2015\n",
    "* OMEGADF- change classname to coil_calibration\n",
    "* Include load_logging method from PolarisDragonfly\n",
    "* unbias_ft becomes create_storage\n",
    "* setup_dragonfly uses mm_ip instead of server\n",
    "* Add user_start_calibrate method\n",
    "* rezero method renamed vector\n",
    "* vector outputs mean of orientations and positions for coil and calibration plate\n",
    "* vector prints calculated vector\n",
    "* vector and coil_ori become objects\n",
    "* process_message recieves POLARIS_POSITION\n",
    "* process_message creates positions and orientation arrays\n",
    "* process_message removes sample number from array\n",
    "* create_storage is called from User_start_calibrate\n",
    "* Replaces load_config method with PolarisDragonfly corresponding method\n",
    "* Added config 'main' information to load_config... ~~**Do we need a n_tool variable?**~~ **Does the polaris output a list of tools is can currently see?**\n",
    "* Log file saves to coil_calibration log file\n",
    "* setup_polaris_interface not called as method currently\n",
    "* **setup_dragonfly may need subscriptions added for Polaris_Position?**\n",
    "* Removed UR5 movement messages and commands\n",
    "\n",
    "\n",
    "27/11/2015\n",
    "* Added a calculation in process_message to find the hospot position for each sample **Probably doesn't work curently**\n",
    "* Changed vector to make_calibration_vector\n",
    "* Now subscribing to POLARIS_POSITION\n",
    "* Reorganized to improve readability\n",
    "* Renaming of some variables to improve readability... ongoing\n",
    "\n",
    "\n",
    "30/11/2015\n",
    "* Added ntools data member\n",
    "* Simplified calculations loops in process_message\n",
    "\n",
    "\n",
    "* *What needs changing in process_message after #calculating outputs?*\n",
    "* *What adjustments need to be made to get_ft_vals_from_DAQ_DATA_buffer?*\n",
    "* *What is \\__name\\__ == \"\\__main\\__\" doing in this instance, does anything need changing?*\n",
    "* *Do we need a seperate function to do calculation or should this sit within process message to occur if unbias = False*"
   ]
  },
  {
   "cell_type": "code",
   "execution_count": 2,
   "metadata": {
    "collapsed": true
   },
   "outputs": [],
   "source": [
    "store_coil_ori = np.empty([200, 4])\n",
    "calib_coil_ori = np.empty([4])\n",
    "coil_position = np.empty([200, 3])\n",
    "vector = np.empty([3])"
   ]
  },
  {
   "cell_type": "code",
   "execution_count": 22,
   "metadata": {
    "collapsed": false
   },
   "outputs": [],
   "source": [
    "def vector_calculation(store_coil_ori, calib_coil_ori, coil_position, vector):\n",
    "    active_coil_ori = store_coil_ori[::2] #need to find a way to discriminate the tools files in the messages???\n",
    "    coil_rotation = np.empty(active_coil_ori.shape) \n",
    "    for n in range(len(active_coil_ori)):\n",
    "        coil_rotation[n, :] = qa.mult(active_coil_ori[n], qa.inv(calib_coil_ori))\n",
    "    print coil_rotation\n",
    "    coil_position = coil_position[::2]\n",
    "    hotspot_position = np.empty(coil_position.shape)\n",
    "    for n in range(len(active_coil_ori)):\n",
    "        hotspot_position[n, :] = qa.rotate(coil_rotation[n], vector) + coil_position[n]\n",
    "    return hotspot_position"
   ]
  },
  {
   "cell_type": "code",
   "execution_count": 4,
   "metadata": {
    "collapsed": true
   },
   "outputs": [],
   "source": [
    "def load_config(config_file):\n",
    "        cfg = PyFileConfigLoader(config_file)\n",
    "        cfg.load_config()\n",
    "        config = cfg.config\n",
    "        return config"
   ]
  },
  {
   "cell_type": "code",
   "execution_count": 5,
   "metadata": {
    "collapsed": false
   },
   "outputs": [],
   "source": [
    "config = load_config('C:\\\\Users\\\\amcmorl\\\\Documents\\\\BCI\\\\app_configs\\\\realTMSmap\\\\polaris_dragonfly_config.py')"
   ]
  },
  {
   "cell_type": "code",
   "execution_count": 6,
   "metadata": {
    "collapsed": false
   },
   "outputs": [
    {
     "data": {
      "text/plain": [
       "['CT315', 'CB609']"
      ]
     },
     "execution_count": 6,
     "metadata": {},
     "output_type": "execute_result"
    }
   ],
   "source": [
    "config.tools"
   ]
  },
  {
   "cell_type": "code",
   "execution_count": 23,
   "metadata": {
    "collapsed": true
   },
   "outputs": [
    {
     "name": "stdout",
     "output_type": "stream",
     "text": [
      "[[  0.00000000e+000   0.00000000e+000   0.00000000e+000   0.00000000e+000]\n",
      " [ -1.81537095e-142  -1.26996910e-142  -1.11717589e-142   9.27170572e-143]\n",
      " [  1.28697309e-142  -1.83967749e-142   9.39584733e-143   1.13213409e-142]\n",
      " [ -1.44259962e-224   1.19724738e-224   2.34417289e-224   1.63990017e-224]\n",
      " [  0.00000000e+000   0.00000000e+000   0.00000000e+000   0.00000000e+000]\n",
      " [ -3.73175205e-121  -2.61060131e-121  -2.29651325e-121   1.90593040e-121]\n",
      " [ -7.08280649e-027  -4.95488009e-027  -4.35874589e-027   3.61742582e-027]\n",
      " [ -1.69933753e-094   1.41032021e-094   2.76136282e-094   1.93175145e-094]\n",
      " [  0.00000000e+000   0.00000000e+000   0.00000000e+000   0.00000000e+000]\n",
      " [  0.00000000e+000   0.00000000e+000   0.00000000e+000   0.00000000e+000]\n",
      " [  0.00000000e+000   0.00000000e+000   0.00000000e+000   0.00000000e+000]\n",
      " [ -9.40503841e-136   7.80546276e-136   1.52828517e-135   1.06913407e-135]\n",
      " [  0.00000000e+000   0.00000000e+000   0.00000000e+000   0.00000000e+000]\n",
      " [  5.29148190e-103   6.37586676e-103  -7.24787727e-103   1.03605559e-102]\n",
      " [ -5.10720226e-065   4.23858737e-065   8.29902136e-065   5.80570086e-065]\n",
      " [ -2.51175813e-087  -1.75713686e-087  -1.54573127e-087   1.28283876e-087]\n",
      " [  0.00000000e+000   0.00000000e+000   0.00000000e+000   0.00000000e+000]\n",
      " [  1.70227947e-073   2.05112807e-073  -2.33165546e-073   3.33300990e-073]\n",
      " [ -3.40322844e-060   2.82441939e-060   5.53012474e-060   3.86867903e-060]\n",
      " [  0.00000000e+000   0.00000000e+000   0.00000000e+000   0.00000000e+000]\n",
      " [ -1.31615097e-087   1.09230467e-087   2.13869834e-087   1.49615747e-087]\n",
      " [  4.34059368e-073  -6.20470819e-073   3.16895169e-073   3.81836584e-073]\n",
      " [  2.48799057e-092   2.99785517e-092  -3.40786392e-092   4.87140764e-092]\n",
      " [  0.00000000e+000   0.00000000e+000   0.00000000e+000   0.00000000e+000]\n",
      " [ -6.02912124e-073  -4.21775928e-073  -3.71030996e-073   3.07927357e-073]\n",
      " [  4.37789426e-049  -6.25802791e-049   3.19618385e-049   3.85117870e-049]\n",
      " [  0.00000000e+000   0.00000000e+000   0.00000000e+000   0.00000000e+000]\n",
      " [  0.00000000e+000   0.00000000e+000   0.00000000e+000   0.00000000e+000]\n",
      " [ -8.19532737e-073  -5.73316022e-073  -5.04338917e-073   4.18562738e-073]\n",
      " [  0.00000000e+000   0.00000000e+000   0.00000000e+000   0.00000000e+000]\n",
      " [  0.00000000e+000   0.00000000e+000   0.00000000e+000   0.00000000e+000]\n",
      " [ -2.43097757e-068   2.01752551e-068   3.95025177e-068   2.76345597e-068]\n",
      " [ -2.77591948e-093   2.30380092e-093   4.51077007e-093   3.15557468e-093]\n",
      " [  4.94065646e-324   9.88131292e-324  -9.88131292e-324   1.48219694e-323]\n",
      " [ -2.82718226e-039  -1.97779639e-039  -1.73984269e-039   1.44393640e-039]\n",
      " [  3.60655509e-150   4.34564743e-150  -4.93999018e-150   7.06152195e-150]\n",
      " [  1.82578892e-229   2.19994835e-229  -2.50082950e-229   3.57483755e-229]\n",
      " [ -1.77908224e-147   1.47650223e-147   2.89094514e-147   2.02240263e-147]\n",
      " [  1.70531497e-113  -5.41389615e-114  -2.66475203e-114   2.27631415e-113]\n",
      " [ -8.66926287e-114   7.19482532e-114   1.40872427e-113   9.85493512e-114]\n",
      " [ -4.11339381e-073  -2.87758435e-073  -2.53137488e-073   2.10084759e-073]\n",
      " [  4.23858737e-065   5.10720226e-065  -5.80570086e-065   8.29902137e-065]\n",
      " [ -2.05573691e-073   1.70610445e-073   3.34049909e-073   2.33689463e-073]\n",
      " [  1.37619712e-068   1.65822158e-068  -1.88501218e-068   2.69455088e-068]\n",
      " [  9.78273681e-083   1.17875158e-082  -1.33996633e-082   1.91542924e-082]\n",
      " [ -2.82718226e-039  -1.97779639e-039  -1.73984269e-039   1.44393640e-039]\n",
      " [ -4.79360374e-075  -3.35343508e-075  -2.94997479e-075   2.44825352e-075]\n",
      " [ -8.67137914e-114   7.19658166e-114   1.40906816e-113   9.85734082e-114]\n",
      " [ -1.40872465e-113  -9.85493777e-114  -8.66926520e-114   7.19482725e-114]\n",
      " [ -4.79590295e-075  -3.35504352e-075  -2.95138973e-075   2.44942780e-075]\n",
      " [ -4.56819297e-025   6.53005243e-025  -3.33511586e-025  -4.01858208e-025]\n",
      " [  7.24354207e-136   8.72796316e-136  -9.92166369e-136   1.41826286e-135]\n",
      " [ -2.68767953e-068  -1.88020523e-068  -1.65399297e-068   1.37268769e-068]\n",
      " [  4.25743963e-117   5.12991792e-117  -5.83152328e-117   8.33593350e-117]\n",
      " [ -2.51169161e-087  -1.75709033e-087  -1.54569033e-087   1.28280479e-087]\n",
      " [ -3.34049872e-073  -2.33689437e-073  -2.05573668e-073   1.70610426e-073]\n",
      " [  0.00000000e+000   0.00000000e+000   0.00000000e+000   0.00000000e+000]\n",
      " [ -4.59142588e-022  -3.21199862e-022  -2.82555492e-022   2.34499453e-022]\n",
      " [  0.00000000e+000   0.00000000e+000   0.00000000e+000   0.00000000e+000]\n",
      " [  4.79065392e-175  -6.84805162e-175   3.49752867e-175   4.21427819e-175]\n",
      " [ -7.00917326e-027  -4.90336889e-027  -4.31343214e-027   3.57981887e-027]\n",
      " [  3.59730872e-027   4.33450620e-027  -4.92732520e-027   7.04341785e-027]\n",
      " [ -1.34604522e-065   1.11711461e-065   2.18727544e-065   1.53014028e-065]\n",
      " [  3.96878481e-080   4.78210899e-080  -5.43614544e-080   7.77075640e-080]\n",
      " [  2.56006406e-039  -3.65951102e-039   1.86903450e-039   2.25205625e-039]\n",
      " [ -3.02962462e-063  -2.11941788e-063  -1.86442534e-063   1.54733048e-063]\n",
      " [  1.16780703e-164   1.40712605e-164  -1.59957498e-164   2.28652961e-164]\n",
      " [  7.34082817e-064   8.84518613e-064  -1.00549189e-063   1.43731117e-063]\n",
      " [  4.32162198e-040   5.20725317e-040  -5.91943548e-040   8.46160053e-040]\n",
      " [ -1.69409756e-058  -1.18513054e-058  -1.04254447e-058   8.65232199e-059]\n",
      " [  1.27291935e-097   1.53377906e-097  -1.74354999e-097   2.49233623e-097]\n",
      " [  0.00000000e+000   0.00000000e+000   0.00000000e+000   0.00000000e+000]\n",
      " [  0.00000000e+000   0.00000000e+000   0.00000000e+000   0.00000000e+000]\n",
      " [ -6.78656900e-059   5.63233336e-059   1.10279324e-058   7.71475017e-059]\n",
      " [ -2.05573668e-073   1.70610426e-073   3.34049872e-073   2.33689437e-073]\n",
      " [  6.59733892e-064   7.94862867e-064  -9.03598107e-064   1.29170946e-063]\n",
      " [  9.49612678e-136  -1.35743403e-135   6.93286892e-136   8.35362367e-136]\n",
      " [ -1.09408546e-142   9.08007274e-143   1.77784981e-142   1.24372064e-142]\n",
      " [  1.63198710e-068   1.96643067e-068  -2.23537422e-068   3.19537965e-068]\n",
      " [ -1.18127483e-087   9.80367791e-088   1.91952944e-087   1.34283468e-087]\n",
      " [  3.79733055e-102  -5.42813488e-102   2.77232976e-102   3.34046407e-102]\n",
      " [  2.35905630e-068   2.84249836e-068  -3.23125938e-068   4.61895838e-068]\n",
      " [  0.00000000e+000   0.00000000e+000   0.00000000e+000   0.00000000e+000]\n",
      " [  0.00000000e+000   0.00000000e+000   0.00000000e+000   0.00000000e+000]\n",
      " [  0.00000000e+000   0.00000000e+000   0.00000000e+000   0.00000000e+000]\n",
      " [  2.50082962e-229  -3.57483772e-229   1.82578901e-229   2.19994846e-229]\n",
      " [  2.19746411e-070  -3.14118864e-070   1.60430994e-070   1.93308163e-070]\n",
      " [ -1.28872008e-063   1.06953913e-063   2.09412413e-063   1.46497493e-063]\n",
      " [  1.05140064e-065   1.26686447e-065  -1.44013019e-065   2.05860954e-065]\n",
      " [ -2.19994879e-229   1.82578928e-229   3.57483825e-229   2.50082999e-229]\n",
      " [  4.18871946e-084   5.04711490e-084  -5.73739551e-084   8.20138155e-084]\n",
      " [  1.24417133e-142  -1.77849405e-142   9.08336308e-143   1.09448192e-142]\n",
      " [  1.05178861e-065   1.26733194e-065  -1.44066159e-065   2.05936916e-065]\n",
      " [ -1.18270778e-073   2.34302496e-074  -4.89822495e-073   5.79034898e-073]\n",
      " [  3.67123186e-316   4.42357842e-316  -5.02857959e-316   7.18815703e-316]\n",
      " [  3.10571237e-126   3.74216687e-126  -4.25397318e-126   6.08088759e-126]\n",
      " [ -2.40043183e-010  -1.67925693e-010  -1.47722127e-010   1.22598070e-010]\n",
      " [ -7.00763056e-027  -4.90228968e-027  -4.31248277e-027   3.57903096e-027]\n",
      " [  7.19477129e-114   8.66919777e-114  -9.85486111e-114   1.40871369e-113]\n",
      " [ -2.19994884e-229   1.82578933e-229   3.57483833e-229   2.50083005e-229]]\n"
     ]
    }
   ],
   "source": [
    "x = vector_calculation(store_coil_ori, calib_coil_ori, coil_position, vector)"
   ]
  },
  {
   "cell_type": "code",
   "execution_count": 2,
   "metadata": {
    "collapsed": false
   },
   "outputs": [],
   "source": [
    "def user_start_calibrate():\n",
    "        while True:\n",
    "            x = raw_input(\"Press enter to calibrate...\")\n",
    "            if not x:\n",
    "                break\n",
    "            print '.......'\n",
    "        sys.stdout.write('starting in:\\n')\n",
    "        sys.stdout.write('3\\n')\n",
    "        time.sleep(1)\n",
    "        sys.stdout.write('2\\n')\n",
    "        time.sleep(1)\n",
    "        sys.stdout.write('1\\n')\n",
    "        time.sleep(1)\n",
    "        sys.stdout.write('Calibrating...')"
   ]
  },
  {
   "cell_type": "code",
   "execution_count": 1,
   "metadata": {
    "collapsed": false
   },
   "outputs": [
    {
     "ename": "NameError",
     "evalue": "name 'PyDragonfly' is not defined",
     "output_type": "error",
     "traceback": [
      "\u001b[1;31m---------------------------------------------------------------------------\u001b[0m",
      "\u001b[1;31mNameError\u001b[0m                                 Traceback (most recent call last)",
      "\u001b[1;32m<ipython-input-1-ec6d8bfc90df>\u001b[0m in \u001b[0;36m<module>\u001b[1;34m()\u001b[0m\n\u001b[0;32m      1\u001b[0m \u001b[0mmm_ip\u001b[0m \u001b[1;33m=\u001b[0m \u001b[1;34m'localhost:7111'\u001b[0m\u001b[1;33m\u001b[0m\u001b[0m\n\u001b[1;32m----> 2\u001b[1;33m \u001b[0mmod\u001b[0m \u001b[1;33m=\u001b[0m \u001b[0mPyDragonfly\u001b[0m\u001b[1;33m.\u001b[0m\u001b[0mDragonfly_Module\u001b[0m\u001b[1;33m(\u001b[0m\u001b[1;36m0\u001b[0m\u001b[1;33m,\u001b[0m \u001b[1;36m0\u001b[0m\u001b[1;33m)\u001b[0m\u001b[1;33m\u001b[0m\u001b[0m\n\u001b[0m\u001b[0;32m      3\u001b[0m \u001b[0mmod\u001b[0m\u001b[1;33m.\u001b[0m\u001b[0mConnectToMMM\u001b[0m\u001b[1;33m(\u001b[0m\u001b[0mmm_ip\u001b[0m\u001b[1;33m)\u001b[0m\u001b[1;33m\u001b[0m\u001b[0m\n\u001b[0;32m      4\u001b[0m \u001b[0mmod\u001b[0m\u001b[1;33m.\u001b[0m\u001b[0mSubscribe\u001b[0m\u001b[1;33m(\u001b[0m\u001b[0mrc\u001b[0m\u001b[1;33m.\u001b[0m\u001b[0mMT_POLARIS_POSITION\u001b[0m\u001b[1;33m)\u001b[0m\u001b[1;33m\u001b[0m\u001b[0m\n\u001b[0;32m      5\u001b[0m \u001b[0mmod\u001b[0m\u001b[1;33m.\u001b[0m\u001b[0mSendModuleReady\u001b[0m\u001b[1;33m(\u001b[0m\u001b[1;33m)\u001b[0m\u001b[1;33m\u001b[0m\u001b[0m\n",
      "\u001b[1;31mNameError\u001b[0m: name 'PyDragonfly' is not defined"
     ]
    }
   ],
   "source": [
    "mm_ip = 'localhost:7111'\n",
    "mod = PyDragonfly.Dragonfly_Module(0, 0)\n",
    "mod.ConnectToMMM(mm_ip)\n",
    "mod.Subscribe(rc.MT_POLARIS_POSITION)\n",
    "mod.SendModuleReady()"
   ]
  },
  {
   "cell_type": "code",
   "execution_count": 3,
   "metadata": {
    "collapsed": false
   },
   "outputs": [
    {
     "name": "stdout",
     "output_type": "stream",
     "text": [
      "Press enter to calibrate...\n",
      "starting in:\n",
      "3\n",
      "2\n",
      "1\n",
      "Calibrating..."
     ]
    }
   ],
   "source": [
    "user_start_calibrate()"
   ]
  },
  {
   "cell_type": "code",
   "execution_count": 42,
   "metadata": {
    "collapsed": false
   },
   "outputs": [],
   "source": [
    "ni = np.empty([200, 3])\n",
    "Qi = np.empty([200, 4])\n",
    "def vector(store_ori, store_pos, start_time, firq):\n",
    "    start_collect = start_time * firq\n",
    "    plate_ori_bias = store_ori[start_collect::2].mean(axis=0)\n",
    "    plate_pos_bias = store_pos[start_collect::2].mean(axis=0)\n",
    "    coil_ori_bias = store_ori[start_collect+1::2].mean(axis=0)\n",
    "    coil_pos_bias = store_pos[start_collect+1::2].mean(axis=0)\n",
    "    msg_str_pos = \"%.5e, \" * 3\n",
    "    msg_str_ori = \"%.5e, \" * 4\n",
    "    sys.stdout.write('Plate orientation:    ')\n",
    "    sys.stdout.write(msg_str_ori % (plate_ori_bias[0], plate_ori_bias[1], plate_ori_bias[2],\\\n",
    "                                plate_ori_bias[3]) + \"\\n\")\n",
    "    sys.stdout.write('Plate position:       ')\n",
    "    sys.stdout.write(msg_str_pos % (plate_pos_bias[0], plate_pos_bias[1], plate_pos_bias[2]) + \"\\n\")\n",
    "    sys.stdout.write('Coil orientation:     ')\n",
    "    sys.stdout.write(msg_str_ori % (coil_ori_bias[0], coil_ori_bias[1], coil_ori_bias[2], \\\n",
    "                                coil_ori_bias[3]) + \"\\n\")\n",
    "    sys.stdout.write('Coil position:        ')\n",
    "    sys.stdout.write(msg_str_pos % (coil_pos_bias[0], coil_pos_bias[1], coil_pos_bias[2]) + \"\\n\")\n",
    "    vector = plate_pos_bias - coil_pos_bias\n",
    "    sys.stdout.write('Vector:        ')\n",
    "    sys.stdout.write(msg_str_pos % (vector[0], vector[1], vector[2]) + \"\\n\")\n",
    "    sys.stdout.write(\"********** Calibration complete! ***********\\n\")\n",
    "    sys.stdout.flush()"
   ]
  },
  {
   "cell_type": "code",
   "execution_count": 8,
   "metadata": {
    "collapsed": false,
    "scrolled": true
   },
   "outputs": [
    {
     "data": {
      "text/plain": [
       "6.5054001993171015e-307"
      ]
     },
     "execution_count": 8,
     "metadata": {},
     "output_type": "execute_result"
    }
   ],
   "source": [
    "Qi[0::2].mean(axis=0)[0]"
   ]
  },
  {
   "cell_type": "code",
   "execution_count": 43,
   "metadata": {
    "collapsed": false,
    "scrolled": false
   },
   "outputs": [
    {
     "name": "stdout",
     "output_type": "stream",
     "text": [
      "Plate orientation:    1.65831e-307, 1.77123e-307, 1.79766e-307, 1.50227e-307, \n",
      "Plate position:       1.05947e+275, 7.25155e+269, 1.05947e+275, \n",
      "Coil orientation:     1.70198e-307, 1.69058e-307, 1.65580e-307, 1.70142e-307, \n",
      "Coil position:        1.42660e+251, 1.22751e+264, 7.25155e+269, \n",
      "Vector:        1.05947e+275, 7.25154e+269, 1.05946e+275, \n",
      "********** Calibration complete! ***********\n"
     ]
    }
   ],
   "source": [
    "vector(Qi, ni, 0, 50)"
   ]
  },
  {
   "cell_type": "code",
   "execution_count": 13,
   "metadata": {
    "collapsed": false,
    "scrolled": true
   },
   "outputs": [
    {
     "ename": "NameError",
     "evalue": "name 'coil_calibration' is not defined",
     "output_type": "error",
     "traceback": [
      "\u001b[1;31m---------------------------------------------------------------------------\u001b[0m",
      "\u001b[1;31mNameError\u001b[0m                                 Traceback (most recent call last)",
      "\u001b[1;32m<ipython-input-13-52b46e3cbd37>\u001b[0m in \u001b[0;36m<module>\u001b[1;34m()\u001b[0m\n\u001b[1;32m----> 1\u001b[1;33m \u001b[0mcoil_calibration\u001b[0m\u001b[1;33m.\u001b[0m\u001b[0muser_start_calibrate\u001b[0m\u001b[1;33m(\u001b[0m\u001b[1;36m2\u001b[0m\u001b[1;33m)\u001b[0m\u001b[1;33m\u001b[0m\u001b[0m\n\u001b[0m",
      "\u001b[1;31mNameError\u001b[0m: name 'coil_calibration' is not defined"
     ]
    }
   ],
   "source": [
    "coil_calibration.user_start_calibrate(2)"
   ]
  },
  {
   "cell_type": "code",
   "execution_count": 33,
   "metadata": {
    "collapsed": false
   },
   "outputs": [
    {
     "name": "stdout",
     "output_type": "stream",
     "text": [
      "[ -241.62162781  -202.62493896 -2088.58251953]\n",
      "[ 0.89071101 -0.21268009 -0.17807722 -0.3601267 ]\n"
     ]
    }
   ],
   "source": [
    "msg = PyDragonfly.CMessage()\n",
    "rcv = -1\n",
    "tool = 1\n",
    "tool_id = 0\n",
    "while rcv != 1 and tool_id != tool:\n",
    "    rcv = mod.ReadMessage(msg, 0.01)\n",
    "    if rcv == 1:\n",
    "        header = msg.GetHeader()\n",
    "        if header.msg_type == rc.MT_POLARIS_POSITION:\n",
    "            mdf = rc.MDF_POLARIS_POSITION()\n",
    "            PyDragonfly.copy_from_msg(mdf, msg)\n",
    "            tool_id = mdf.tool_id\n",
    "            if tool_id == tool:\n",
    "                print(np.asarray(mdf.xyz[:]))\n",
    "                print(np.asarray(mdf.ori[:]))\n",
    "        else:\n",
    "            print(\"x\")"
   ]
  },
  {
   "cell_type": "code",
   "execution_count": 3,
   "metadata": {
    "collapsed": false
   },
   "outputs": [],
   "source": [
    "Ni = np.array([-93, -101.5, -2112])\n",
    "Ti = np.array([-369.904, -134.983, -2143.489])\n",
    "Qi = qa.norm(np.array([-0.17681, -0.005837, -0.66479, 0.725777])) # xyz, w"
   ]
  },
  {
   "cell_type": "code",
   "execution_count": 6,
   "metadata": {
    "collapsed": false
   },
   "outputs": [
    {
     "name": "stdout",
     "output_type": "stream",
     "text": [
      "[ 276.904   33.483   31.489]\n"
     ]
    }
   ],
   "source": [
    "Xi = Ni - Ti\n",
    "print Xi"
   ]
  },
  {
   "cell_type": "code",
   "execution_count": 34,
   "metadata": {
    "collapsed": false
   },
   "outputs": [
    {
     "name": "stdout",
     "output_type": "stream",
     "text": [
      "[-0.11315385 -0.04633178  0.36100933  0.92451167]\n"
     ]
    }
   ],
   "source": [
    "Qk = qa.norm(np.asarray([-0.21268009, -0.17807722, -0.3601267, 0.89071101]))\n",
    "Tk = np.asarray([-241.62162781, -202.62493896, -2088.58251953])\n",
    "Nk = np.asarray([-70.6, 16.1, -2072])\n",
    "Qr = qa.mult(Qk, qa.inv(Qi)).flatten()\n",
    "print Qr"
   ]
  },
  {
   "cell_type": "code",
   "execution_count": 69,
   "metadata": {
    "collapsed": false
   },
   "outputs": [
    {
     "name": "stdout",
     "output_type": "stream",
     "text": [
      "[ 0.04779975 -0.05308806 -0.44715677 -0.89159838]\n"
     ]
    }
   ],
   "source": [
    "#Qk = qa.norm(np.array([0.242, -0.023, -0.938, 0.248]))\n",
    "#Tk = np.array([-261, 11, -2182])\n",
    "#Nk = np.array([-231,-38,-2178])\n",
    "Qr = qa.mult(Qk, qa.inv(Qi)).flatten()\n",
    "print Qr"
   ]
  },
  {
   "cell_type": "code",
   "execution_count": 35,
   "metadata": {
    "collapsed": false,
    "scrolled": true
   },
   "outputs": [
    {
     "data": {
      "text/plain": [
       "(array([[  -65.35255198,    14.54887876, -2065.06147732]]),\n",
       " array([  -70.6,    16.1, -2072. ]))"
      ]
     },
     "execution_count": 35,
     "metadata": {},
     "output_type": "execute_result"
    }
   ],
   "source": [
    "qa.rotate(Qr, Xi) + Tk, Nk"
   ]
  },
  {
   "cell_type": "code",
   "execution_count": 55,
   "metadata": {
    "collapsed": false
   },
   "outputs": [
    {
     "data": {
      "text/plain": [
       "array([29, 57, -4])"
      ]
     },
     "execution_count": 55,
     "metadata": {},
     "output_type": "execute_result"
    }
   ],
   "source": [
    "Xi"
   ]
  },
  {
   "cell_type": "code",
   "execution_count": 54,
   "metadata": {
    "collapsed": true
   },
   "outputs": [],
   "source": [
    "coil_ori = np.empty([200, 4])\n",
    "calib_ori = np.asarray([1, 1, 1, 1])"
   ]
  },
  {
   "cell_type": "code",
   "execution_count": 56,
   "metadata": {
    "collapsed": false
   },
   "outputs": [],
   "source": [
    "for sample in coil_ori:\n",
    "    for n in range(len(coil_ori)):\n",
    "        coil_ori[n, :] = qa.mult(sample, qa.inv(calib_ori))"
   ]
  },
  {
   "cell_type": "code",
   "execution_count": 57,
   "metadata": {
    "collapsed": true
   },
   "outputs": [
    {
     "data": {
      "text/plain": [
       "array([[ -9.76868387e-187,  -7.75708946e-187,  -1.07734936e-187,\n",
       "         -1.58012796e-187],\n",
       "       [ -9.76868387e-187,  -7.75708946e-187,  -1.07734936e-187,\n",
       "         -1.58012796e-187],\n",
       "       [ -9.76868387e-187,  -7.75708946e-187,  -1.07734936e-187,\n",
       "         -1.58012796e-187],\n",
       "       [ -9.76868387e-187,  -7.75708946e-187,  -1.07734936e-187,\n",
       "         -1.58012796e-187],\n",
       "       [ -9.76868387e-187,  -7.75708946e-187,  -1.07734936e-187,\n",
       "         -1.58012796e-187],\n",
       "       [ -9.76868387e-187,  -7.75708946e-187,  -1.07734936e-187,\n",
       "         -1.58012796e-187],\n",
       "       [ -9.76868387e-187,  -7.75708946e-187,  -1.07734936e-187,\n",
       "         -1.58012796e-187],\n",
       "       [ -9.76868387e-187,  -7.75708946e-187,  -1.07734936e-187,\n",
       "         -1.58012796e-187],\n",
       "       [ -9.76868387e-187,  -7.75708946e-187,  -1.07734936e-187,\n",
       "         -1.58012796e-187],\n",
       "       [ -9.76868387e-187,  -7.75708946e-187,  -1.07734936e-187,\n",
       "         -1.58012796e-187],\n",
       "       [ -9.76868387e-187,  -7.75708946e-187,  -1.07734936e-187,\n",
       "         -1.58012796e-187],\n",
       "       [ -9.76868387e-187,  -7.75708946e-187,  -1.07734936e-187,\n",
       "         -1.58012796e-187],\n",
       "       [ -9.76868387e-187,  -7.75708946e-187,  -1.07734936e-187,\n",
       "         -1.58012796e-187],\n",
       "       [ -9.76868387e-187,  -7.75708946e-187,  -1.07734936e-187,\n",
       "         -1.58012796e-187],\n",
       "       [ -9.76868387e-187,  -7.75708946e-187,  -1.07734936e-187,\n",
       "         -1.58012796e-187],\n",
       "       [ -9.76868387e-187,  -7.75708946e-187,  -1.07734936e-187,\n",
       "         -1.58012796e-187],\n",
       "       [ -9.76868387e-187,  -7.75708946e-187,  -1.07734936e-187,\n",
       "         -1.58012796e-187],\n",
       "       [ -9.76868387e-187,  -7.75708946e-187,  -1.07734936e-187,\n",
       "         -1.58012796e-187],\n",
       "       [ -9.76868387e-187,  -7.75708946e-187,  -1.07734936e-187,\n",
       "         -1.58012796e-187],\n",
       "       [ -9.76868387e-187,  -7.75708946e-187,  -1.07734936e-187,\n",
       "         -1.58012796e-187],\n",
       "       [ -9.76868387e-187,  -7.75708946e-187,  -1.07734936e-187,\n",
       "         -1.58012796e-187],\n",
       "       [ -9.76868387e-187,  -7.75708946e-187,  -1.07734936e-187,\n",
       "         -1.58012796e-187],\n",
       "       [ -9.76868387e-187,  -7.75708946e-187,  -1.07734936e-187,\n",
       "         -1.58012796e-187],\n",
       "       [ -9.76868387e-187,  -7.75708946e-187,  -1.07734936e-187,\n",
       "         -1.58012796e-187],\n",
       "       [ -9.76868387e-187,  -7.75708946e-187,  -1.07734936e-187,\n",
       "         -1.58012796e-187],\n",
       "       [ -9.76868387e-187,  -7.75708946e-187,  -1.07734936e-187,\n",
       "         -1.58012796e-187],\n",
       "       [ -9.76868387e-187,  -7.75708946e-187,  -1.07734936e-187,\n",
       "         -1.58012796e-187],\n",
       "       [ -9.76868387e-187,  -7.75708946e-187,  -1.07734936e-187,\n",
       "         -1.58012796e-187],\n",
       "       [ -9.76868387e-187,  -7.75708946e-187,  -1.07734936e-187,\n",
       "         -1.58012796e-187],\n",
       "       [ -9.76868387e-187,  -7.75708946e-187,  -1.07734936e-187,\n",
       "         -1.58012796e-187],\n",
       "       [ -9.76868387e-187,  -7.75708946e-187,  -1.07734936e-187,\n",
       "         -1.58012796e-187],\n",
       "       [ -9.76868387e-187,  -7.75708946e-187,  -1.07734936e-187,\n",
       "         -1.58012796e-187],\n",
       "       [ -9.76868387e-187,  -7.75708946e-187,  -1.07734936e-187,\n",
       "         -1.58012796e-187],\n",
       "       [ -9.76868387e-187,  -7.75708946e-187,  -1.07734936e-187,\n",
       "         -1.58012796e-187],\n",
       "       [ -9.76868387e-187,  -7.75708946e-187,  -1.07734936e-187,\n",
       "         -1.58012796e-187],\n",
       "       [ -9.76868387e-187,  -7.75708946e-187,  -1.07734936e-187,\n",
       "         -1.58012796e-187],\n",
       "       [ -9.76868387e-187,  -7.75708946e-187,  -1.07734936e-187,\n",
       "         -1.58012796e-187],\n",
       "       [ -9.76868387e-187,  -7.75708946e-187,  -1.07734936e-187,\n",
       "         -1.58012796e-187],\n",
       "       [ -9.76868387e-187,  -7.75708946e-187,  -1.07734936e-187,\n",
       "         -1.58012796e-187],\n",
       "       [ -9.76868387e-187,  -7.75708946e-187,  -1.07734936e-187,\n",
       "         -1.58012796e-187],\n",
       "       [ -9.76868387e-187,  -7.75708946e-187,  -1.07734936e-187,\n",
       "         -1.58012796e-187],\n",
       "       [ -9.76868387e-187,  -7.75708946e-187,  -1.07734936e-187,\n",
       "         -1.58012796e-187],\n",
       "       [ -9.76868387e-187,  -7.75708946e-187,  -1.07734936e-187,\n",
       "         -1.58012796e-187],\n",
       "       [ -9.76868387e-187,  -7.75708946e-187,  -1.07734936e-187,\n",
       "         -1.58012796e-187],\n",
       "       [ -9.76868387e-187,  -7.75708946e-187,  -1.07734936e-187,\n",
       "         -1.58012796e-187],\n",
       "       [ -9.76868387e-187,  -7.75708946e-187,  -1.07734936e-187,\n",
       "         -1.58012796e-187],\n",
       "       [ -9.76868387e-187,  -7.75708946e-187,  -1.07734936e-187,\n",
       "         -1.58012796e-187],\n",
       "       [ -9.76868387e-187,  -7.75708946e-187,  -1.07734936e-187,\n",
       "         -1.58012796e-187],\n",
       "       [ -9.76868387e-187,  -7.75708946e-187,  -1.07734936e-187,\n",
       "         -1.58012796e-187],\n",
       "       [ -9.76868387e-187,  -7.75708946e-187,  -1.07734936e-187,\n",
       "         -1.58012796e-187],\n",
       "       [ -9.76868387e-187,  -7.75708946e-187,  -1.07734936e-187,\n",
       "         -1.58012796e-187],\n",
       "       [ -9.76868387e-187,  -7.75708946e-187,  -1.07734936e-187,\n",
       "         -1.58012796e-187],\n",
       "       [ -9.76868387e-187,  -7.75708946e-187,  -1.07734936e-187,\n",
       "         -1.58012796e-187],\n",
       "       [ -9.76868387e-187,  -7.75708946e-187,  -1.07734936e-187,\n",
       "         -1.58012796e-187],\n",
       "       [ -9.76868387e-187,  -7.75708946e-187,  -1.07734936e-187,\n",
       "         -1.58012796e-187],\n",
       "       [ -9.76868387e-187,  -7.75708946e-187,  -1.07734936e-187,\n",
       "         -1.58012796e-187],\n",
       "       [ -9.76868387e-187,  -7.75708946e-187,  -1.07734936e-187,\n",
       "         -1.58012796e-187],\n",
       "       [ -9.76868387e-187,  -7.75708946e-187,  -1.07734936e-187,\n",
       "         -1.58012796e-187],\n",
       "       [ -9.76868387e-187,  -7.75708946e-187,  -1.07734936e-187,\n",
       "         -1.58012796e-187],\n",
       "       [ -9.76868387e-187,  -7.75708946e-187,  -1.07734936e-187,\n",
       "         -1.58012796e-187],\n",
       "       [ -9.76868387e-187,  -7.75708946e-187,  -1.07734936e-187,\n",
       "         -1.58012796e-187],\n",
       "       [ -9.76868387e-187,  -7.75708946e-187,  -1.07734936e-187,\n",
       "         -1.58012796e-187],\n",
       "       [ -9.76868387e-187,  -7.75708946e-187,  -1.07734936e-187,\n",
       "         -1.58012796e-187],\n",
       "       [ -9.76868387e-187,  -7.75708946e-187,  -1.07734936e-187,\n",
       "         -1.58012796e-187],\n",
       "       [ -9.76868387e-187,  -7.75708946e-187,  -1.07734936e-187,\n",
       "         -1.58012796e-187],\n",
       "       [ -9.76868387e-187,  -7.75708946e-187,  -1.07734936e-187,\n",
       "         -1.58012796e-187],\n",
       "       [ -9.76868387e-187,  -7.75708946e-187,  -1.07734936e-187,\n",
       "         -1.58012796e-187],\n",
       "       [ -9.76868387e-187,  -7.75708946e-187,  -1.07734936e-187,\n",
       "         -1.58012796e-187],\n",
       "       [ -9.76868387e-187,  -7.75708946e-187,  -1.07734936e-187,\n",
       "         -1.58012796e-187],\n",
       "       [ -9.76868387e-187,  -7.75708946e-187,  -1.07734936e-187,\n",
       "         -1.58012796e-187],\n",
       "       [ -9.76868387e-187,  -7.75708946e-187,  -1.07734936e-187,\n",
       "         -1.58012796e-187],\n",
       "       [ -9.76868387e-187,  -7.75708946e-187,  -1.07734936e-187,\n",
       "         -1.58012796e-187],\n",
       "       [ -9.76868387e-187,  -7.75708946e-187,  -1.07734936e-187,\n",
       "         -1.58012796e-187],\n",
       "       [ -9.76868387e-187,  -7.75708946e-187,  -1.07734936e-187,\n",
       "         -1.58012796e-187],\n",
       "       [ -9.76868387e-187,  -7.75708946e-187,  -1.07734936e-187,\n",
       "         -1.58012796e-187],\n",
       "       [ -9.76868387e-187,  -7.75708946e-187,  -1.07734936e-187,\n",
       "         -1.58012796e-187],\n",
       "       [ -9.76868387e-187,  -7.75708946e-187,  -1.07734936e-187,\n",
       "         -1.58012796e-187],\n",
       "       [ -9.76868387e-187,  -7.75708946e-187,  -1.07734936e-187,\n",
       "         -1.58012796e-187],\n",
       "       [ -9.76868387e-187,  -7.75708946e-187,  -1.07734936e-187,\n",
       "         -1.58012796e-187],\n",
       "       [ -9.76868387e-187,  -7.75708946e-187,  -1.07734936e-187,\n",
       "         -1.58012796e-187],\n",
       "       [ -9.76868387e-187,  -7.75708946e-187,  -1.07734936e-187,\n",
       "         -1.58012796e-187],\n",
       "       [ -9.76868387e-187,  -7.75708946e-187,  -1.07734936e-187,\n",
       "         -1.58012796e-187],\n",
       "       [ -9.76868387e-187,  -7.75708946e-187,  -1.07734936e-187,\n",
       "         -1.58012796e-187],\n",
       "       [ -9.76868387e-187,  -7.75708946e-187,  -1.07734936e-187,\n",
       "         -1.58012796e-187],\n",
       "       [ -9.76868387e-187,  -7.75708946e-187,  -1.07734936e-187,\n",
       "         -1.58012796e-187],\n",
       "       [ -9.76868387e-187,  -7.75708946e-187,  -1.07734936e-187,\n",
       "         -1.58012796e-187],\n",
       "       [ -9.76868387e-187,  -7.75708946e-187,  -1.07734936e-187,\n",
       "         -1.58012796e-187],\n",
       "       [ -9.76868387e-187,  -7.75708946e-187,  -1.07734936e-187,\n",
       "         -1.58012796e-187],\n",
       "       [ -9.76868387e-187,  -7.75708946e-187,  -1.07734936e-187,\n",
       "         -1.58012796e-187],\n",
       "       [ -9.76868387e-187,  -7.75708946e-187,  -1.07734936e-187,\n",
       "         -1.58012796e-187],\n",
       "       [ -9.76868387e-187,  -7.75708946e-187,  -1.07734936e-187,\n",
       "         -1.58012796e-187],\n",
       "       [ -9.76868387e-187,  -7.75708946e-187,  -1.07734936e-187,\n",
       "         -1.58012796e-187],\n",
       "       [ -9.76868387e-187,  -7.75708946e-187,  -1.07734936e-187,\n",
       "         -1.58012796e-187],\n",
       "       [ -9.76868387e-187,  -7.75708946e-187,  -1.07734936e-187,\n",
       "         -1.58012796e-187],\n",
       "       [ -9.76868387e-187,  -7.75708946e-187,  -1.07734936e-187,\n",
       "         -1.58012796e-187],\n",
       "       [ -9.76868387e-187,  -7.75708946e-187,  -1.07734936e-187,\n",
       "         -1.58012796e-187],\n",
       "       [ -9.76868387e-187,  -7.75708946e-187,  -1.07734936e-187,\n",
       "         -1.58012796e-187],\n",
       "       [ -9.76868387e-187,  -7.75708946e-187,  -1.07734936e-187,\n",
       "         -1.58012796e-187],\n",
       "       [ -9.76868387e-187,  -7.75708946e-187,  -1.07734936e-187,\n",
       "         -1.58012796e-187],\n",
       "       [ -9.76868387e-187,  -7.75708946e-187,  -1.07734936e-187,\n",
       "         -1.58012796e-187],\n",
       "       [ -9.76868387e-187,  -7.75708946e-187,  -1.07734936e-187,\n",
       "         -1.58012796e-187],\n",
       "       [ -9.76868387e-187,  -7.75708946e-187,  -1.07734936e-187,\n",
       "         -1.58012796e-187],\n",
       "       [ -9.76868387e-187,  -7.75708946e-187,  -1.07734936e-187,\n",
       "         -1.58012796e-187],\n",
       "       [ -9.76868387e-187,  -7.75708946e-187,  -1.07734936e-187,\n",
       "         -1.58012796e-187],\n",
       "       [ -9.76868387e-187,  -7.75708946e-187,  -1.07734936e-187,\n",
       "         -1.58012796e-187],\n",
       "       [ -9.76868387e-187,  -7.75708946e-187,  -1.07734936e-187,\n",
       "         -1.58012796e-187],\n",
       "       [ -9.76868387e-187,  -7.75708946e-187,  -1.07734936e-187,\n",
       "         -1.58012796e-187],\n",
       "       [ -9.76868387e-187,  -7.75708946e-187,  -1.07734936e-187,\n",
       "         -1.58012796e-187],\n",
       "       [ -9.76868387e-187,  -7.75708946e-187,  -1.07734936e-187,\n",
       "         -1.58012796e-187],\n",
       "       [ -9.76868387e-187,  -7.75708946e-187,  -1.07734936e-187,\n",
       "         -1.58012796e-187],\n",
       "       [ -9.76868387e-187,  -7.75708946e-187,  -1.07734936e-187,\n",
       "         -1.58012796e-187],\n",
       "       [ -9.76868387e-187,  -7.75708946e-187,  -1.07734936e-187,\n",
       "         -1.58012796e-187],\n",
       "       [ -9.76868387e-187,  -7.75708946e-187,  -1.07734936e-187,\n",
       "         -1.58012796e-187],\n",
       "       [ -9.76868387e-187,  -7.75708946e-187,  -1.07734936e-187,\n",
       "         -1.58012796e-187],\n",
       "       [ -9.76868387e-187,  -7.75708946e-187,  -1.07734936e-187,\n",
       "         -1.58012796e-187],\n",
       "       [ -9.76868387e-187,  -7.75708946e-187,  -1.07734936e-187,\n",
       "         -1.58012796e-187],\n",
       "       [ -9.76868387e-187,  -7.75708946e-187,  -1.07734936e-187,\n",
       "         -1.58012796e-187],\n",
       "       [ -9.76868387e-187,  -7.75708946e-187,  -1.07734936e-187,\n",
       "         -1.58012796e-187],\n",
       "       [ -9.76868387e-187,  -7.75708946e-187,  -1.07734936e-187,\n",
       "         -1.58012796e-187],\n",
       "       [ -9.76868387e-187,  -7.75708946e-187,  -1.07734936e-187,\n",
       "         -1.58012796e-187],\n",
       "       [ -9.76868387e-187,  -7.75708946e-187,  -1.07734936e-187,\n",
       "         -1.58012796e-187],\n",
       "       [ -9.76868387e-187,  -7.75708946e-187,  -1.07734936e-187,\n",
       "         -1.58012796e-187],\n",
       "       [ -9.76868387e-187,  -7.75708946e-187,  -1.07734936e-187,\n",
       "         -1.58012796e-187],\n",
       "       [ -9.76868387e-187,  -7.75708946e-187,  -1.07734936e-187,\n",
       "         -1.58012796e-187],\n",
       "       [ -9.76868387e-187,  -7.75708946e-187,  -1.07734936e-187,\n",
       "         -1.58012796e-187],\n",
       "       [ -9.76868387e-187,  -7.75708946e-187,  -1.07734936e-187,\n",
       "         -1.58012796e-187],\n",
       "       [ -9.76868387e-187,  -7.75708946e-187,  -1.07734936e-187,\n",
       "         -1.58012796e-187],\n",
       "       [ -9.76868387e-187,  -7.75708946e-187,  -1.07734936e-187,\n",
       "         -1.58012796e-187],\n",
       "       [ -9.76868387e-187,  -7.75708946e-187,  -1.07734936e-187,\n",
       "         -1.58012796e-187],\n",
       "       [ -9.76868387e-187,  -7.75708946e-187,  -1.07734936e-187,\n",
       "         -1.58012796e-187],\n",
       "       [ -9.76868387e-187,  -7.75708946e-187,  -1.07734936e-187,\n",
       "         -1.58012796e-187],\n",
       "       [ -9.76868387e-187,  -7.75708946e-187,  -1.07734936e-187,\n",
       "         -1.58012796e-187],\n",
       "       [ -9.76868387e-187,  -7.75708946e-187,  -1.07734936e-187,\n",
       "         -1.58012796e-187],\n",
       "       [ -9.76868387e-187,  -7.75708946e-187,  -1.07734936e-187,\n",
       "         -1.58012796e-187],\n",
       "       [ -9.76868387e-187,  -7.75708946e-187,  -1.07734936e-187,\n",
       "         -1.58012796e-187],\n",
       "       [ -9.76868387e-187,  -7.75708946e-187,  -1.07734936e-187,\n",
       "         -1.58012796e-187],\n",
       "       [ -9.76868387e-187,  -7.75708946e-187,  -1.07734936e-187,\n",
       "         -1.58012796e-187],\n",
       "       [ -9.76868387e-187,  -7.75708946e-187,  -1.07734936e-187,\n",
       "         -1.58012796e-187],\n",
       "       [ -9.76868387e-187,  -7.75708946e-187,  -1.07734936e-187,\n",
       "         -1.58012796e-187],\n",
       "       [ -9.76868387e-187,  -7.75708946e-187,  -1.07734936e-187,\n",
       "         -1.58012796e-187],\n",
       "       [ -9.76868387e-187,  -7.75708946e-187,  -1.07734936e-187,\n",
       "         -1.58012796e-187],\n",
       "       [ -9.76868387e-187,  -7.75708946e-187,  -1.07734936e-187,\n",
       "         -1.58012796e-187],\n",
       "       [ -9.76868387e-187,  -7.75708946e-187,  -1.07734936e-187,\n",
       "         -1.58012796e-187],\n",
       "       [ -9.76868387e-187,  -7.75708946e-187,  -1.07734936e-187,\n",
       "         -1.58012796e-187],\n",
       "       [ -9.76868387e-187,  -7.75708946e-187,  -1.07734936e-187,\n",
       "         -1.58012796e-187],\n",
       "       [ -9.76868387e-187,  -7.75708946e-187,  -1.07734936e-187,\n",
       "         -1.58012796e-187],\n",
       "       [ -9.76868387e-187,  -7.75708946e-187,  -1.07734936e-187,\n",
       "         -1.58012796e-187],\n",
       "       [ -9.76868387e-187,  -7.75708946e-187,  -1.07734936e-187,\n",
       "         -1.58012796e-187],\n",
       "       [ -9.76868387e-187,  -7.75708946e-187,  -1.07734936e-187,\n",
       "         -1.58012796e-187],\n",
       "       [ -9.76868387e-187,  -7.75708946e-187,  -1.07734936e-187,\n",
       "         -1.58012796e-187],\n",
       "       [ -9.76868387e-187,  -7.75708946e-187,  -1.07734936e-187,\n",
       "         -1.58012796e-187],\n",
       "       [ -9.76868387e-187,  -7.75708946e-187,  -1.07734936e-187,\n",
       "         -1.58012796e-187],\n",
       "       [ -9.76868387e-187,  -7.75708946e-187,  -1.07734936e-187,\n",
       "         -1.58012796e-187],\n",
       "       [ -9.76868387e-187,  -7.75708946e-187,  -1.07734936e-187,\n",
       "         -1.58012796e-187],\n",
       "       [ -9.76868387e-187,  -7.75708946e-187,  -1.07734936e-187,\n",
       "         -1.58012796e-187],\n",
       "       [ -9.76868387e-187,  -7.75708946e-187,  -1.07734936e-187,\n",
       "         -1.58012796e-187],\n",
       "       [ -9.76868387e-187,  -7.75708946e-187,  -1.07734936e-187,\n",
       "         -1.58012796e-187],\n",
       "       [ -9.76868387e-187,  -7.75708946e-187,  -1.07734936e-187,\n",
       "         -1.58012796e-187],\n",
       "       [ -9.76868387e-187,  -7.75708946e-187,  -1.07734936e-187,\n",
       "         -1.58012796e-187],\n",
       "       [ -9.76868387e-187,  -7.75708946e-187,  -1.07734936e-187,\n",
       "         -1.58012796e-187],\n",
       "       [ -9.76868387e-187,  -7.75708946e-187,  -1.07734936e-187,\n",
       "         -1.58012796e-187],\n",
       "       [ -9.76868387e-187,  -7.75708946e-187,  -1.07734936e-187,\n",
       "         -1.58012796e-187],\n",
       "       [ -9.76868387e-187,  -7.75708946e-187,  -1.07734936e-187,\n",
       "         -1.58012796e-187],\n",
       "       [ -9.76868387e-187,  -7.75708946e-187,  -1.07734936e-187,\n",
       "         -1.58012796e-187],\n",
       "       [ -9.76868387e-187,  -7.75708946e-187,  -1.07734936e-187,\n",
       "         -1.58012796e-187],\n",
       "       [ -9.76868387e-187,  -7.75708946e-187,  -1.07734936e-187,\n",
       "         -1.58012796e-187],\n",
       "       [ -9.76868387e-187,  -7.75708946e-187,  -1.07734936e-187,\n",
       "         -1.58012796e-187],\n",
       "       [ -9.76868387e-187,  -7.75708946e-187,  -1.07734936e-187,\n",
       "         -1.58012796e-187],\n",
       "       [ -9.76868387e-187,  -7.75708946e-187,  -1.07734936e-187,\n",
       "         -1.58012796e-187],\n",
       "       [ -9.76868387e-187,  -7.75708946e-187,  -1.07734936e-187,\n",
       "         -1.58012796e-187],\n",
       "       [ -9.76868387e-187,  -7.75708946e-187,  -1.07734936e-187,\n",
       "         -1.58012796e-187],\n",
       "       [ -9.76868387e-187,  -7.75708946e-187,  -1.07734936e-187,\n",
       "         -1.58012796e-187],\n",
       "       [ -9.76868387e-187,  -7.75708946e-187,  -1.07734936e-187,\n",
       "         -1.58012796e-187],\n",
       "       [ -9.76868387e-187,  -7.75708946e-187,  -1.07734936e-187,\n",
       "         -1.58012796e-187],\n",
       "       [ -9.76868387e-187,  -7.75708946e-187,  -1.07734936e-187,\n",
       "         -1.58012796e-187],\n",
       "       [ -9.76868387e-187,  -7.75708946e-187,  -1.07734936e-187,\n",
       "         -1.58012796e-187],\n",
       "       [ -9.76868387e-187,  -7.75708946e-187,  -1.07734936e-187,\n",
       "         -1.58012796e-187],\n",
       "       [ -9.76868387e-187,  -7.75708946e-187,  -1.07734936e-187,\n",
       "         -1.58012796e-187],\n",
       "       [ -9.76868387e-187,  -7.75708946e-187,  -1.07734936e-187,\n",
       "         -1.58012796e-187],\n",
       "       [ -9.76868387e-187,  -7.75708946e-187,  -1.07734936e-187,\n",
       "         -1.58012796e-187],\n",
       "       [ -9.76868387e-187,  -7.75708946e-187,  -1.07734936e-187,\n",
       "         -1.58012796e-187],\n",
       "       [ -9.76868387e-187,  -7.75708946e-187,  -1.07734936e-187,\n",
       "         -1.58012796e-187],\n",
       "       [ -9.76868387e-187,  -7.75708946e-187,  -1.07734936e-187,\n",
       "         -1.58012796e-187],\n",
       "       [ -9.76868387e-187,  -7.75708946e-187,  -1.07734936e-187,\n",
       "         -1.58012796e-187],\n",
       "       [ -9.76868387e-187,  -7.75708946e-187,  -1.07734936e-187,\n",
       "         -1.58012796e-187],\n",
       "       [ -9.76868387e-187,  -7.75708946e-187,  -1.07734936e-187,\n",
       "         -1.58012796e-187],\n",
       "       [ -9.76868387e-187,  -7.75708946e-187,  -1.07734936e-187,\n",
       "         -1.58012796e-187],\n",
       "       [ -9.76868387e-187,  -7.75708946e-187,  -1.07734936e-187,\n",
       "         -1.58012796e-187],\n",
       "       [ -9.76868387e-187,  -7.75708946e-187,  -1.07734936e-187,\n",
       "         -1.58012796e-187],\n",
       "       [ -9.76868387e-187,  -7.75708946e-187,  -1.07734936e-187,\n",
       "         -1.58012796e-187],\n",
       "       [ -9.76868387e-187,  -7.75708946e-187,  -1.07734936e-187,\n",
       "         -1.58012796e-187],\n",
       "       [ -9.76868387e-187,  -7.75708946e-187,  -1.07734936e-187,\n",
       "         -1.58012796e-187],\n",
       "       [ -9.76868387e-187,  -7.75708946e-187,  -1.07734936e-187,\n",
       "         -1.58012796e-187],\n",
       "       [ -9.76868387e-187,  -7.75708946e-187,  -1.07734936e-187,\n",
       "         -1.58012796e-187],\n",
       "       [ -9.76868387e-187,  -7.75708946e-187,  -1.07734936e-187,\n",
       "         -1.58012796e-187],\n",
       "       [ -9.76868387e-187,  -7.75708946e-187,  -1.07734936e-187,\n",
       "         -1.58012796e-187],\n",
       "       [ -9.76868387e-187,  -7.75708946e-187,  -1.07734936e-187,\n",
       "         -1.58012796e-187],\n",
       "       [ -9.76868387e-187,  -7.75708946e-187,  -1.07734936e-187,\n",
       "         -1.58012796e-187],\n",
       "       [ -9.76868387e-187,  -7.75708946e-187,  -1.07734936e-187,\n",
       "         -1.58012796e-187],\n",
       "       [ -9.76868387e-187,  -7.75708946e-187,  -1.07734936e-187,\n",
       "         -1.58012796e-187]])"
      ]
     },
     "execution_count": 57,
     "metadata": {},
     "output_type": "execute_result"
    }
   ],
   "source": [
    "coil_ori"
   ]
  },
  {
   "cell_type": "code",
   "execution_count": 1,
   "metadata": {
    "collapsed": false
   },
   "outputs": [
    {
     "ename": "NameError",
     "evalue": "name 'Qk' is not defined",
     "output_type": "error",
     "traceback": [
      "\u001b[1;31m---------------------------------------------------------------------------\u001b[0m",
      "\u001b[1;31mNameError\u001b[0m                                 Traceback (most recent call last)",
      "\u001b[1;32m<ipython-input-1-02f8acec00c5>\u001b[0m in \u001b[0;36m<module>\u001b[1;34m()\u001b[0m\n\u001b[1;32m----> 1\u001b[1;33m \u001b[0mQk\u001b[0m\u001b[1;33m\u001b[0m\u001b[0m\n\u001b[0m",
      "\u001b[1;31mNameError\u001b[0m: name 'Qk' is not defined"
     ]
    }
   ],
   "source": [
    "Qk"
   ]
  },
  {
   "cell_type": "code",
   "execution_count": null,
   "metadata": {
    "collapsed": true
   },
   "outputs": [],
   "source": []
  }
 ],
 "metadata": {
  "kernelspec": {
   "display_name": "Python 2",
   "language": "python",
   "name": "python2"
  },
  "language_info": {
   "codemirror_mode": {
    "name": "ipython",
    "version": 2
   },
   "file_extension": ".py",
   "mimetype": "text/x-python",
   "name": "python",
   "nbconvert_exporter": "python",
   "pygments_lexer": "ipython2",
   "version": "2.7.5"
  }
 },
 "nbformat": 4,
 "nbformat_minor": 0
}
