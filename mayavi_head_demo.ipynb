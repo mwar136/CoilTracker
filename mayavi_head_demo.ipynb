{
 "cells": [
  {
   "cell_type": "code",
   "execution_count": null,
   "metadata": {
    "collapsed": false,
    "scrolled": true
   },
   "outputs": [],
   "source": [
    "from mayavi import mlab\n",
    "import numpy as np\n",
    "\n"
   ]
  },
  {
   "cell_type": "code",
   "execution_count": null,
   "metadata": {
    "collapsed": false
   },
   "outputs": [],
   "source": [
    "%gui qt4"
   ]
  },
  {
   "cell_type": "code",
   "execution_count": null,
   "metadata": {
    "collapsed": false
   },
   "outputs": [],
   "source": [
    "cd 'C:\\Users\\amcmorl\\Desktop\\Head'"
   ]
  },
  {
   "cell_type": "code",
   "execution_count": null,
   "metadata": {
    "collapsed": false
   },
   "outputs": [],
   "source": [
    "import vtk\n",
    "from mayavi import mlab, tools\n",
    "import numpy as np\n",
    "import mayavi\n",
    "\n",
    "nasion = np.array([9.5, -2.5, -9])\n",
    "inion = np.array([0, 6, -14])\n",
    "left_auricle = np.array([0, -11, -14])\n",
    "right_auricle = np.array([-12, -2.5, -14])\n",
    "vertex = (np.mean((nasion, inion, right_auricle,left_auricle), axis=0)) + np.array([0,0,14.5])\n",
    "\n",
    "ref = np.vstack((nasion, inion, left_auricle, right_auricle, vertex))\n",
    "\n",
    "v = mlab.figure()\n",
    "\n",
    "filename = \"Head.obj\"\n",
    " \n",
    "reader = vtk.vtkOBJReader()\n",
    "reader.SetFileName(filename)\n",
    " \n",
    "mapper = vtk.vtkPolyDataMapper()\n",
    "if vtk.VTK_MAJOR_VERSION <= 5:\n",
    "    mapper.SetInput(reader.GetOutput())\n",
    "else:\n",
    "    mapper.SetInputConnection(reader.GetOutputPort())\n",
    "\n",
    "mapper.SetColorMode(200)\n",
    "actor = vtk.vtkActor()\n",
    "actor.SetMapper(mapper)\n",
    "actor.SetOrientation(180, 0, 0)\n",
    "actor.GetProperty().SetColor(1,1,1)\n",
    "\n",
    "tail = np.ones((10,3))\n",
    "head = np.ones((10,3))\n",
    "\n",
    "mlab.quiver3d(tail[:,0], tail[:,1], tail[:,2], head[:,0], head[:,1], head[:,2])\n",
    "\n",
    "mlab.axes(extent=[-10,10,-10,10,-10,10], ranges=[-10,10,-10,10,-10,10], color=(0,0,0))\n",
    "\n",
    "mlab.points3d(ref[:,0], ref[:,1], ref[:,2], color=(1,0,1), scale_factor=0.5)\n",
    "# Assign actor to the renderer\n",
    "v.scene.add_actor(actor)\n",
    "\n",
    "# Enable user interface interactor\n",
    "mlab.show()\n"
   ]
  },
  {
   "cell_type": "code",
   "execution_count": 2,
   "metadata": {
    "collapsed": false
   },
   "outputs": [
    {
     "name": "stderr",
     "output_type": "stream",
     "text": [
      "Exception occurred in traits notification handler for object: <mayavi.tools.mlab_scene_model.MlabSceneModel object at 0x000000000F459938>, trait: actor_list_items, old value: <undefined>, new value: <traits.trait_handlers.TraitListEvent object at 0x000000000F3803C8>\n",
      "Traceback (most recent call last):\n",
      "  File \"C:\\Anaconda\\lib\\site-packages\\traits\\trait_notifiers.py\", line 519, in rebind_call_1\n",
      "    self.dispatch( getattr( self.object(), self.name ), new )\n",
      "  File \"C:\\Anaconda\\lib\\site-packages\\traits\\trait_notifiers.py\", line 455, in dispatch\n",
      "    handler( *args )\n",
      "  File \"C:\\Anaconda\\lib\\site-packages\\tvtk\\pyface\\ui\\qt4\\scene_editor.py\", line 197, in _actor_list_items_changed\n",
      "    event.added)\n",
      "  File \"C:\\Anaconda\\lib\\site-packages\\tvtk\\pyface\\ui\\qt4\\scene_editor.py\", line 210, in _actor_list_changed\n",
      "    self._add_actors_widgets(new)\n",
      "  File \"C:\\Anaconda\\lib\\site-packages\\tvtk\\pyface\\ui\\qt4\\scene_editor.py\", line 233, in _add_actors_widgets\n",
      "    actors, widgets = self._separate_actors_widgets(actors_widgets)\n",
      "  File \"C:\\Anaconda\\lib\\site-packages\\tvtk\\pyface\\ui\\qt4\\scene_editor.py\", line 224, in _separate_actors_widgets\n",
      "    if actor.is_a('vtk3DWidget') or actor.is_a('vtkInteractorObserver'):\n",
      "AttributeError: is_a\n",
      "ERROR:traits:Exception occurred in traits notification handler for object: <mayavi.tools.mlab_scene_model.MlabSceneModel object at 0x000000000F459938>, trait: actor_list_items, old value: <undefined>, new value: <traits.trait_handlers.TraitListEvent object at 0x000000000F3803C8>\n",
      "Traceback (most recent call last):\n",
      "  File \"C:\\Anaconda\\lib\\site-packages\\traits\\trait_notifiers.py\", line 519, in rebind_call_1\n",
      "    self.dispatch( getattr( self.object(), self.name ), new )\n",
      "  File \"C:\\Anaconda\\lib\\site-packages\\traits\\trait_notifiers.py\", line 455, in dispatch\n",
      "    handler( *args )\n",
      "  File \"C:\\Anaconda\\lib\\site-packages\\tvtk\\pyface\\ui\\qt4\\scene_editor.py\", line 197, in _actor_list_items_changed\n",
      "    event.added)\n",
      "  File \"C:\\Anaconda\\lib\\site-packages\\tvtk\\pyface\\ui\\qt4\\scene_editor.py\", line 210, in _actor_list_changed\n",
      "    self._add_actors_widgets(new)\n",
      "  File \"C:\\Anaconda\\lib\\site-packages\\tvtk\\pyface\\ui\\qt4\\scene_editor.py\", line 233, in _add_actors_widgets\n",
      "    actors, widgets = self._separate_actors_widgets(actors_widgets)\n",
      "  File \"C:\\Anaconda\\lib\\site-packages\\tvtk\\pyface\\ui\\qt4\\scene_editor.py\", line 224, in _separate_actors_widgets\n",
      "    if actor.is_a('vtk3DWidget') or actor.is_a('vtkInteractorObserver'):\n",
      "AttributeError: is_a\n"
     ]
    },
    {
     "name": "stdout",
     "output_type": "stream",
     "text": [
      "Exception occurred in traits notification handler.\n",
      "Please check the log file for details.\n"
     ]
    }
   ],
   "source": [
    "# First, and before importing any Enthought packages, set the ETS_TOOLKIT\n",
    "# environment variable to qt4, to tell Traits that we will use Qt.\n",
    "import os\n",
    "os.environ['ETS_TOOLKIT'] = 'qt4'\n",
    "# By default, the PySide binding will be used. If you want the PyQt bindings\n",
    "# to be used, you need to set the QT_API environment variable to 'pyqt'\n",
    "#os.environ['QT_API'] = 'pyqt'\n",
    "\n",
    "# To be able to use PySide or PyQt4 and not run in conflicts with traits,\n",
    "# we need to import QtGui and QtCore from pyface.qt\n",
    "from pyface.qt import QtGui, QtCore\n",
    "# Alternatively, you can bypass this line, but you need to make sure that\n",
    "# the following lines are executed before the import of PyQT:\n",
    "#   import sip\n",
    "#   sip.setapi('QString', 2)\n",
    "\n",
    "from traits.api import HasTraits, Instance, on_trait_change\n",
    "from traitsui.api import View, Item\n",
    "from mayavi.core.ui.api import MayaviScene, MlabSceneModel, \\\n",
    "        SceneEditor\n",
    "import numpy as np\n",
    "import vtk\n",
    "from mayavi import mlab, tools\n",
    "\n",
    "################################################################################\n",
    "#The actual visualization\n",
    "class Visualization(HasTraits):\n",
    "    scene = Instance(MlabSceneModel, ())\n",
    "\n",
    "    @on_trait_change('scene.activated')\n",
    "    def update_plot(self):\n",
    "        # This function is called when the view is opened. We don't\n",
    "        # populate the scene when the view is not yet open, as some\n",
    "        # VTK features require a GLContext.\n",
    "        \n",
    "        filename = \"Head.obj\"\n",
    " \n",
    "        reader = vtk.vtkOBJReader()\n",
    "        reader.SetFileName(filename)\n",
    "\n",
    "        mapper = vtk.vtkPolyDataMapper()\n",
    "        if vtk.VTK_MAJOR_VERSION <= 5:\n",
    "            mapper.SetInput(reader.GetOutput())\n",
    "        else:\n",
    "            mapper.SetInputConnection(reader.GetOutputPort())\n",
    "\n",
    "        mapper.SetColorMode(200)\n",
    "        actor = vtk.vtkActor()\n",
    "        actor.SetMapper(mapper)\n",
    "        actor.SetOrientation(180, 0, 0)\n",
    "        actor.GetProperty().SetColor(1,1,1)\n",
    "\n",
    "     \n",
    "        self.scene.add_actor(actor)\n",
    "\n",
    "        # We can do normal mlab calls on the embedded scene.\n",
    "        #self.scene.mlab.points3d(ref[:,0], ref[:,1], ref[:,2], color=(1,0,1), scale_factor=0.5)\n",
    "        #self.scene.mlab.quiver3d(tail[:,0], tail[:,1], tail[:,2], head[:,0], head[:,1], head[:,2])\n",
    "       \n",
    "\n",
    "    # the layout of the dialog screated\n",
    "    view = View(Item('scene', editor=SceneEditor(scene_class=MayaviScene),\n",
    "                     height=250, width=300, show_label=False),\n",
    "                resizable=True # We need this to resize with the parent widget\n",
    "                )\n",
    "\n",
    "\n",
    "################################################################################\n",
    "# The QWidget containing the visualization, this is pure PyQt4 code.\n",
    "class MayaviQWidget(QtGui.QWidget):\n",
    "    def __init__(self, parent=None):\n",
    "        QtGui.QWidget.__init__(self, parent)\n",
    "        layout = QtGui.QVBoxLayout(self)\n",
    "        layout.setContentsMargins(0,0,0,0)\n",
    "        layout.setSpacing(0)\n",
    "        self.visualization = Visualization()\n",
    "\n",
    "        # If you want to debug, beware that you need to remove the Qt\n",
    "        # input hook.\n",
    "        #QtCore.pyqtRemoveInputHook()\n",
    "        #import pdb ; pdb.set_trace()\n",
    "        #QtCore.pyqtRestoreInputHook()\n",
    "\n",
    "        # The edit_traits call will generate the widget to embed.\n",
    "        self.ui = self.visualization.edit_traits(parent=self,\n",
    "                                                 kind='subpanel').control\n",
    "        layout.addWidget(self.ui)\n",
    "        self.ui.setParent(self)\n",
    "\n",
    "\n",
    "if __name__ == \"__main__\":\n",
    "    # Don't create a new QApplication, it would unhook the Events\n",
    "    # set by Traits on the existing QApplication. Simply use the\n",
    "    # '.instance()' method to retrieve the existing one.\n",
    "    app = QtGui.QApplication.instance()\n",
    "    container = QtGui.QWidget()\n",
    "    container.setWindowTitle(\"Embedding Mayavi in a PyQt4 Application\")\n",
    "    # define a \"complex\" layout to test the behaviour\n",
    "    layout = QtGui.QGridLayout(container)\n",
    "\n",
    "    # put some stuff around mayavi\n",
    "    label_list = []\n",
    "    for i in range(3):\n",
    "        for j in range(3):\n",
    "            if (i==1) and (j==1):continue\n",
    "            label = QtGui.QLabel(container)\n",
    "            label.setText(\"Your QWidget at (%d, %d)\" % (i,j))\n",
    "            label.setAlignment(QtCore.Qt.AlignHCenter|QtCore.Qt.AlignVCenter)\n",
    "            layout.addWidget(label, i, j)\n",
    "            label_list.append(label)\n",
    "    mayavi_widget = MayaviQWidget(container)\n",
    "\n",
    "    layout.addWidget(mayavi_widget, 1, 1)\n",
    "    container.show()\n",
    "    window = QtGui.QMainWindow()\n",
    "    window.setCentralWidget(container)\n",
    "    window.show()\n",
    "\n",
    "    # Start the main event loop.\n",
    "    app.exec_()"
   ]
  },
  {
   "cell_type": "code",
   "execution_count": null,
   "metadata": {
    "collapsed": false
   },
   "outputs": [],
   "source": [
    "x = Visualization()\n",
    "x.scene.mlab.figure()"
   ]
  },
  {
   "cell_type": "code",
   "execution_count": null,
   "metadata": {
    "collapsed": false
   },
   "outputs": [],
   "source": [
    "nasion = np.array([9.5, -2.5, -9])\n",
    "inion = np.array([0, 6, -14])\n",
    "left_auricle = np.array([0, -11, -14])\n",
    "right_auricle = np.array([-12, -2.5, -14])\n",
    "vertex = np.mean((np.concatenate(((nasion-inion)[np.newaxis,:], (right_auricle-left_auricle)[np.newaxis,:]), axis=0)), axis=0)"
   ]
  },
  {
   "cell_type": "code",
   "execution_count": null,
   "metadata": {
    "collapsed": false,
    "scrolled": true
   },
   "outputs": [],
   "source": [
    "np.vstack((nasion, inion, left_auricle, right_auricle, vertex))[:,1]"
   ]
  },
  {
   "cell_type": "code",
   "execution_count": null,
   "metadata": {
    "collapsed": false
   },
   "outputs": [],
   "source": [
    "actor.GetProperty().SetColor(1,0,1)"
   ]
  },
  {
   "cell_type": "code",
   "execution_count": null,
   "metadata": {
    "collapsed": true
   },
   "outputs": [],
   "source": [
    "def vtk_show(renderer, w=100, h=100):\n",
    "    \"\"\"\n",
    "    Takes vtkRenderer instance and returns an IPython Image with the rendering.\n",
    "    \"\"\"\n",
    "    renderWindow = vtk.vtkRenderWindow()\n",
    "    renderWindow.SetOffScreenRendering(1)\n",
    "    renderWindow.AddRenderer(renderer)\n",
    "    renderWindow.SetSize(w, h)\n",
    "    renderWindow.Render()\n",
    "\n",
    "    windowToImageFilter = vtk.vtkWindowToImageFilter()\n",
    "    windowToImageFilter.SetInput(renderWindow)\n",
    "    windowToImageFilter.Update()\n",
    "\n",
    "    writer = vtk.vtkPNGWriter()\n",
    "    writer.SetWriteToMemory(1)\n",
    "    writer.SetInputConnection(windowToImageFilter.GetOutputPort())\n",
    "    writer.Write()\n",
    "    data = str(buffer(writer.GetResult()))\n",
    "\n",
    "    from IPython.display import Image\n",
    "    return Image(data)"
   ]
  }
 ],
 "metadata": {
  "kernelspec": {
   "display_name": "Python 2",
   "language": "python",
   "name": "python2"
  },
  "language_info": {
   "codemirror_mode": {
    "name": "ipython",
    "version": 2
   },
   "file_extension": ".py",
   "mimetype": "text/x-python",
   "name": "python",
   "nbconvert_exporter": "python",
   "pygments_lexer": "ipython2",
   "version": "2.7.11"
  }
 },
 "nbformat": 4,
 "nbformat_minor": 0
}
