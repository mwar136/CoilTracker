{
 "cells": [
  {
   "cell_type": "code",
   "execution_count": 1,
   "metadata": {
    "collapsed": false
   },
   "outputs": [],
   "source": [
    "from Tkinter import *\n",
    "import numpy as np"
   ]
  },
  {
   "cell_type": "code",
   "execution_count": 2,
   "metadata": {
    "collapsed": true
   },
   "outputs": [],
   "source": [
    "%gui tk"
   ]
  },
  {
   "cell_type": "code",
   "execution_count": 10,
   "metadata": {
    "collapsed": false,
    "scrolled": true
   },
   "outputs": [],
   "source": [
    "class RandomGenerator(object):\n",
    "    def __init__(self, root):\n",
    "        self.root = root\n",
    "        self.count = count\n",
    "        self.w = Label(self.root, textvariable=self.count)\n",
    "        self.x = Button(self.root, text='random', command=self.rand_no)\n",
    "        self.history = Text(self.root)\n",
    "        self.w.grid(row=0, column=0)\n",
    "        self.x.grid(row=5, column=0)\n",
    "        self.history.grid(row=0, column=1)\n",
    "    \n",
    "    def rand_no(self):\n",
    "        value = np.random.uniform(low=0, high=10)\n",
    "        self.count.set(str(value))\n",
    "        self.print_count()\n",
    "    \n",
    "    def print_count(self):\n",
    "        self.history.insert(END, self.count.get() + '\\n')\n",
    "\n",
    "if __name__ == \"__main__\":\n",
    "    root = Tk()\n",
    "    count = StringVar(master=root)\n",
    "    RandomGenerator(root)\n",
    "    root.update()"
   ]
  },
  {
   "cell_type": "code",
   "execution_count": null,
   "metadata": {
    "collapsed": false
   },
   "outputs": [],
   "source": [
    "count.get()"
   ]
  },
  {
   "cell_type": "code",
   "execution_count": null,
   "metadata": {
    "collapsed": true
   },
   "outputs": [],
   "source": [
    "def rand_no():\n",
    "    count = np.random.uniform(low=0, high=10)\n",
    "    return count"
   ]
  },
  {
   "cell_type": "code",
   "execution_count": null,
   "metadata": {
    "collapsed": false
   },
   "outputs": [],
   "source": [
    "rand_no()"
   ]
  },
  {
   "cell_type": "code",
   "execution_count": null,
   "metadata": {
    "collapsed": false
   },
   "outputs": [],
   "source": [
    "len(count.get())"
   ]
  },
  {
   "cell_type": "code",
   "execution_count": 2,
   "metadata": {
    "collapsed": false
   },
   "outputs": [],
   "source": []
  },
  {
   "cell_type": "code",
   "execution_count": null,
   "metadata": {
    "collapsed": true
   },
   "outputs": [],
   "source": [
    "class MainApplication():\n",
    "    def __init__(self):\n",
    "        self.calibrated = False\n",
    "        self.trial_run = False\n",
    "        self.app = app\n",
    "        self.grid()\n",
    "    \n",
    "class CoilPlot():\n",
    "    subscriptions = \n",
    "    def __init__(self):\n",
    "        self.\n",
    "\n",
    "        \n",
    "        \n",
    "class TriggerCount():\n",
    "    def __init__(self):\n",
    "\n",
    "class Calibration():\n",
    "    def __init__(self):\n",
    "\n",
    "class StartTrial():\n",
    "    def __init__(self):\n",
    "\n",
    "class EndTrial():\n",
    "    def __init__(self):\n",
    "    \n",
    "class FinishSesion():\n",
    "    def __init__(self):\n",
    "\n",
    "if __name__ == \"__main__\":\n",
    "    app = Tk()\n",
    "    app.update()"
   ]
  }
 ],
 "metadata": {
  "kernelspec": {
   "display_name": "Python 2",
   "language": "python",
   "name": "python2"
  },
  "language_info": {
   "codemirror_mode": {
    "name": "ipython",
    "version": 2
   },
   "file_extension": ".py",
   "mimetype": "text/x-python",
   "name": "python",
   "nbconvert_exporter": "python",
   "pygments_lexer": "ipython2",
   "version": "2.7.11"
  }
 },
 "nbformat": 4,
 "nbformat_minor": 0
}
