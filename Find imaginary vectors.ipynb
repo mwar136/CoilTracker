{
 "cells": [
  {
   "cell_type": "code",
   "execution_count": 1,
   "metadata": {
    "collapsed": false
   },
   "outputs": [
    {
     "name": "stdout",
     "output_type": "stream",
     "text": [
      "1.5.1 C:\\Anaconda\\lib\\site-packages\\matplotlib\\__init__.pyc\n"
     ]
    }
   ],
   "source": [
    "import matplotlib\n",
    "print matplotlib.__version__, matplotlib.__file__"
   ]
  },
  {
   "cell_type": "code",
   "execution_count": 1,
   "metadata": {
    "collapsed": false
   },
   "outputs": [
    {
     "name": "stderr",
     "output_type": "stream",
     "text": [
      "C:\\Users\\amcmorl\\Documents\\python-lib\\amcmorl_py_tools\\vectors.py:5: UserWarning: This module is deprecated. Use vecgeom package instead.\n",
      "  warn(\"This module is deprecated. Use vecgeom package instead.\")\n"
     ]
    }
   ],
   "source": [
    "import numpy as np\n",
    "import quaternionarray as qa\n",
    "import amcmorl_py_tools.vecgeom as vg\n",
    "import amcmorl_py_tools.vectors as ve\n",
    "from amcmorl_py_tools.vecgeom import transformations as tf"
   ]
  },
  {
   "cell_type": "code",
   "execution_count": 4,
   "metadata": {
    "collapsed": true
   },
   "outputs": [],
   "source": [
    "vmk1 = np.array([-286, 175, -2145])\n",
    "qmk1 = qa.norm(np.array([-0.005, 0.21, -0.898, 0.386]))\n",
    "vpl1 = np.array([-127, 178, -2131])\n",
    "qpl1 = qa.norm(np.array([0.254, -.026, -0.965, 0.054]))\n",
    "vmk2 = np.array([-244.5, 281.9, -2124.1])\n",
    "qmk2 = qa.norm(np.array([-0.254, -0.124, -0.532, 0.798]))\n",
    "vpl2 = np.array([-178.1, 27.3, -2158])\n",
    "qpl2 = qa.norm(np.array([0.20, -0.163, -0.774, 0.577]))"
   ]
  },
  {
   "cell_type": "code",
   "execution_count": 45,
   "metadata": {
    "collapsed": false
   },
   "outputs": [],
   "source": [
    "Qplr = qa.mult(qpl2, qa.inv(qpl1))\n",
    "Qmkr = qa.mult(qmk2, qa.inv(qmk1))"
   ]
  },
  {
   "cell_type": "code",
   "execution_count": 38,
   "metadata": {
    "collapsed": false,
    "scrolled": true
   },
   "outputs": [
    {
     "data": {
      "text/plain": [
       "array([-0.03515595,  0.01137522,  0.00304533,  0.99931246])"
      ]
     },
     "execution_count": 38,
     "metadata": {},
     "output_type": "execute_result"
    }
   ],
   "source": [
    "tf.DCM2quat(ve.rotmat_between_two_vecs(vpl1, vpl2))"
   ]
  },
  {
   "cell_type": "code",
   "execution_count": 39,
   "metadata": {
    "collapsed": false
   },
   "outputs": [
    {
     "data": {
      "text/plain": [
       "array([[ 0.29483757, -0.02742871, -0.56298821, -0.77159753]])"
      ]
     },
     "execution_count": 39,
     "metadata": {},
     "output_type": "execute_result"
    }
   ],
   "source": [
    "Qplr"
   ]
  },
  {
   "cell_type": "code",
   "execution_count": 46,
   "metadata": {
    "collapsed": false
   },
   "outputs": [],
   "source": [
    "ipl =qa.mult(qa.inv(qpl1), qa.inv(Qplr))\n",
    "iplck = qa.inv(qpl2) "
   ]
  },
  {
   "cell_type": "code",
   "execution_count": 47,
   "metadata": {
    "collapsed": false
   },
   "outputs": [
    {
     "data": {
      "text/plain": [
       "array([[-0.20014275,  0.16311634,  0.77455245,  0.57741184]])"
      ]
     },
     "execution_count": 47,
     "metadata": {},
     "output_type": "execute_result"
    }
   ],
   "source": [
    "ipl"
   ]
  },
  {
   "cell_type": "code",
   "execution_count": 48,
   "metadata": {
    "collapsed": false
   },
   "outputs": [
    {
     "data": {
      "text/plain": [
       "array([-0.20014275,  0.16311634,  0.77455245,  0.57741184])"
      ]
     },
     "execution_count": 48,
     "metadata": {},
     "output_type": "execute_result"
    }
   ],
   "source": [
    "iplck"
   ]
  },
  {
   "cell_type": "code",
   "execution_count": 49,
   "metadata": {
    "collapsed": false
   },
   "outputs": [],
   "source": [
    "imk = qa.mult(qa.inv(qmk1), qa.inv(Qmkr))\n",
    "imkck = qa.inv(qmk2)"
   ]
  },
  {
   "cell_type": "code",
   "execution_count": 50,
   "metadata": {
    "collapsed": false
   },
   "outputs": [
    {
     "data": {
      "text/plain": [
       "array([[ 0.25403557,  0.12401736,  0.5320745 ,  0.79811174]])"
      ]
     },
     "execution_count": 50,
     "metadata": {},
     "output_type": "execute_result"
    }
   ],
   "source": [
    "imk"
   ]
  },
  {
   "cell_type": "code",
   "execution_count": 51,
   "metadata": {
    "collapsed": false
   },
   "outputs": [
    {
     "data": {
      "text/plain": [
       "array([ 0.25403557,  0.12401736,  0.5320745 ,  0.79811174])"
      ]
     },
     "execution_count": 51,
     "metadata": {},
     "output_type": "execute_result"
    }
   ],
   "source": [
    "imkck"
   ]
  },
  {
   "cell_type": "code",
   "execution_count": 23,
   "metadata": {
    "collapsed": true
   },
   "outputs": [],
   "source": [
    "vmk3 = np.array([-339.6, 252, -2180])\n",
    "qmk3 = qa.norm(np.array([0.02, 0.25, -0.916, 0.310]))\n",
    "vpl3 = np.array([-224, 35, -2185])\n",
    "qpl3 = qa.norm(np.array([0.26, -0.05, -0.953, 0.161]))"
   ]
  },
  {
   "cell_type": "code",
   "execution_count": 52,
   "metadata": {
    "collapsed": true
   },
   "outputs": [],
   "source": [
    "Qplr2 = qa.mult(qpl3, qa.inv(qpl2))\n",
    "Qmkr2 = qa.mult(qmk3, qa.inv(qmk2))"
   ]
  },
  {
   "cell_type": "code",
   "execution_count": 53,
   "metadata": {
    "collapsed": true
   },
   "outputs": [],
   "source": [
    "ipl2 = qa.mult(qa.inv(qpl2), qa.inv(Qplr2))\n",
    "iplck2 = qa.inv(qpl3)"
   ]
  },
  {
   "cell_type": "code",
   "execution_count": 54,
   "metadata": {
    "collapsed": false
   },
   "outputs": [
    {
     "data": {
      "text/plain": [
       "array([[-0.25945184,  0.04989458,  0.95099078,  0.16066056]])"
      ]
     },
     "execution_count": 54,
     "metadata": {},
     "output_type": "execute_result"
    }
   ],
   "source": [
    "ipl2"
   ]
  },
  {
   "cell_type": "code",
   "execution_count": 55,
   "metadata": {
    "collapsed": false
   },
   "outputs": [
    {
     "data": {
      "text/plain": [
       "array([-0.25945184,  0.04989458,  0.95099078,  0.16066056])"
      ]
     },
     "execution_count": 55,
     "metadata": {},
     "output_type": "execute_result"
    }
   ],
   "source": [
    "iplck2"
   ]
  },
  {
   "cell_type": "markdown",
   "metadata": {
    "collapsed": true
   },
   "source": [
    "Qc = Quaternion of plate at on off calibration\n",
    "\n",
    "P1 = Position of plate before moving 70mm\n",
    "\n",
    "P2 = Poistion of plate after moving 70mm\n",
    "\n",
    "Pf = P2- P1\n",
    "\n",
    "Qmkc = Coil marker quaternion at calibration time\n",
    "\n",
    "Ppl = Plate position at calibration time\n",
    "\n",
    "Qmkt = Coil marker quaternion at trial time\n",
    "\n",
    "r = Rotation between coil marker orientation at calibration tiem and trial time\n",
    "\n",
    "vclt = Vector Pf after coil rotation = Current direction\n",
    "\n",
    "Add vclc to the coil position calculated to get position of vector head and use matplotlib 3D to plot a quiver"
   ]
  },
  {
   "cell_type": "code",
   "execution_count": 12,
   "metadata": {
    "collapsed": false
   },
   "outputs": [],
   "source": [
    "Qc = np.array([0.00, 0.00, 0.00, -1.00])\n",
    "P1 = np.array([-224, 35, -2185])\n",
    "P2 = np.array([-224, 115, -2185])\n",
    "Pf = np.array([0, 70, 0])"
   ]
  },
  {
   "cell_type": "code",
   "execution_count": 19,
   "metadata": {
    "collapsed": false
   },
   "outputs": [],
   "source": [
    "Qmkc = qa.norm(tf.eul2quat(np.array([0, 0, 0]), 'xyz'))\n",
    "Qmkt = qa.norm(tf.eul2quat(np.array([0, 0, np.radians(90)]), 'xyz'))"
   ]
  },
  {
   "cell_type": "code",
   "execution_count": 21,
   "metadata": {
    "collapsed": false
   },
   "outputs": [],
   "source": [
    "r = qa.mult(Qmkt, qa.inv(Qmkc))\n",
    "vclt = qa.rotate(r, Pf)\n",
    "#Qmkt = qa.mult(Qr, Qmkc)"
   ]
  },
  {
   "cell_type": "code",
   "execution_count": 22,
   "metadata": {
    "collapsed": false
   },
   "outputs": [
    {
     "data": {
      "text/plain": [
       "array([[ -7.00000000e+01,   1.42108547e-14,   0.00000000e+00]])"
      ]
     },
     "execution_count": 22,
     "metadata": {},
     "output_type": "execute_result"
    }
   ],
   "source": [
    "vclt"
   ]
  },
  {
   "cell_type": "code",
   "execution_count": 7,
   "metadata": {
    "collapsed": true
   },
   "outputs": [],
   "source": [
    "Qr = qa.mult(Qc, qa.inv(Qmkc))\n",
    "Qclt = qa.mult(Qmkt, Qr)"
   ]
  },
  {
   "cell_type": "code",
   "execution_count": 8,
   "metadata": {
    "collapsed": false,
    "scrolled": false
   },
   "outputs": [
    {
     "data": {
      "text/plain": [
       "array([[ 0.36625584,  0.11362637, -0.78289207,  0.48793618]])"
      ]
     },
     "execution_count": 8,
     "metadata": {},
     "output_type": "execute_result"
    }
   ],
   "source": [
    "Qclt"
   ]
  },
  {
   "cell_type": "code",
   "execution_count": 11,
   "metadata": {
    "collapsed": false
   },
   "outputs": [
    {
     "data": {
      "text/plain": [
       "array([[-0.00499147,  0.20964156, -0.89646722,  0.38534115]])"
      ]
     },
     "execution_count": 11,
     "metadata": {},
     "output_type": "execute_result"
    }
   ],
   "source": [
    "qa.mult(Qclt, qa.inv(Qr))"
   ]
  },
  {
   "cell_type": "code",
   "execution_count": 12,
   "metadata": {
    "collapsed": false
   },
   "outputs": [
    {
     "data": {
      "text/plain": [
       "array([-0.00500119,  0.21004989, -0.89821335,  0.38609171])"
      ]
     },
     "execution_count": 12,
     "metadata": {},
     "output_type": "execute_result"
    }
   ],
   "source": [
    "Qmkt"
   ]
  },
  {
   "cell_type": "code",
   "execution_count": 13,
   "metadata": {
    "collapsed": false,
    "scrolled": true
   },
   "outputs": [
    {
     "data": {
      "text/plain": [
       "array([[ 0.20623427,  0.27427053,  0.21350292,  0.91362772]])"
      ]
     },
     "execution_count": 13,
     "metadata": {},
     "output_type": "execute_result"
    }
   ],
   "source": [
    "Qr"
   ]
  },
  {
   "cell_type": "code",
   "execution_count": 4,
   "metadata": {
    "collapsed": true
   },
   "outputs": [],
   "source": [
    "Qpl = qa.norm(np.array([0.254, -.026, -0.965, 0.054]))\n",
    "P3 =  np.array([-2, 35, -2149])\n",
    "P4 = P3 + Pf"
   ]
  },
  {
   "cell_type": "code",
   "execution_count": null,
   "metadata": {
    "collapsed": true
   },
   "outputs": [],
   "source": [
    "Qr = qa.mult(Qc, qa.inv(qa.mult(Qmkc, Qpl)))\n",
    "Qclt = qa.mult(Qmkt, Qr)"
   ]
  },
  {
   "cell_type": "code",
   "execution_count": 31,
   "metadata": {
    "collapsed": false
   },
   "outputs": [
    {
     "data": {
      "text/plain": [
       "array([ 0.,  0.,  0.,  1.])"
      ]
     },
     "execution_count": 31,
     "metadata": {},
     "output_type": "execute_result"
    }
   ],
   "source": [
    "tf.axang2quat(np.array([0,0,0]))"
   ]
  },
  {
   "cell_type": "code",
   "execution_count": null,
   "metadata": {
    "collapsed": true
   },
   "outputs": [],
   "source": [
    "vector = np.array([1.6, 85.4, 2.4])\n",
    "ori = np.array([0.00, 0.00, 0.00, -1.00])"
   ]
  }
 ],
 "metadata": {
  "kernelspec": {
   "display_name": "Python 2",
   "language": "python",
   "name": "python2"
  },
  "language_info": {
   "codemirror_mode": {
    "name": "ipython",
    "version": 2
   },
   "file_extension": ".py",
   "mimetype": "text/x-python",
   "name": "python",
   "nbconvert_exporter": "python",
   "pygments_lexer": "ipython2",
   "version": "2.7.5"
  }
 },
 "nbformat": 4,
 "nbformat_minor": 0
}
